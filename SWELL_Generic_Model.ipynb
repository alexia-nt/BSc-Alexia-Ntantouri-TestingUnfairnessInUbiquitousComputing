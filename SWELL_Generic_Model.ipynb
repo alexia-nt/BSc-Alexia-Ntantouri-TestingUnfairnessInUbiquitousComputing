{
 "cells": [
  {
   "cell_type": "markdown",
   "id": "ed16746a",
   "metadata": {},
   "source": [
    "## Import Libraries"
   ]
  },
  {
   "cell_type": "code",
   "execution_count": 1,
   "id": "088f1a57",
   "metadata": {},
   "outputs": [],
   "source": [
    "import pickle\n",
    "import numpy as np\n",
    "import pandas as pd\n",
    "from os import listdir\n",
    "import pycaret\n",
    "from pycaret.classification import *\n",
    "from sklearn.decomposition import PCA\n",
    "from imblearn.over_sampling import SMOTE\n",
    "from datetime import datetime\n",
    "\n",
    "modalities = ['ACC', 'BVP', 'EDA', 'TEMP']\n",
    "\n",
    "#sampling frequencies\n",
    "ACC_WE = 32\n",
    "BVP_WE = 64\n",
    "EDA_WE = 4\n",
    "TEMP_WE = 4\n",
    "\n",
    "ACC_AD = 1920\n",
    "BVP_AD = 3840\n",
    "EDA_AD = 240\n",
    "TEMP_AD = 240"
   ]
  },
  {
   "cell_type": "markdown",
   "id": "8cc15b7c",
   "metadata": {},
   "source": [
    "## SWELL"
   ]
  },
  {
   "cell_type": "code",
   "execution_count": 2,
   "id": "9cdf07ba",
   "metadata": {},
   "outputs": [],
   "source": [
    "swell = pd.read_csv(\"Final_CSVs/swell.csv\")"
   ]
  },
  {
   "cell_type": "code",
   "execution_count": 3,
   "id": "a56c2be8",
   "metadata": {},
   "outputs": [
    {
     "data": {
      "text/plain": [
       "1    1179\n",
       "2     981\n",
       "3     980\n",
       "Name: C, dtype: int64"
      ]
     },
     "execution_count": 3,
     "metadata": {},
     "output_type": "execute_result"
    }
   ],
   "source": [
    "swell[\"C\"].value_counts()"
   ]
  },
  {
   "cell_type": "code",
   "execution_count": 4,
   "id": "1905806b",
   "metadata": {},
   "outputs": [],
   "source": [
    "swell = swell.drop(columns=[\"Unnamed: 7\", \"Unnamed: 8\", \"Unnamed: 9\", \"Unnamed: 10\", \"Unnamed: 11\", \"timestamp\", \"C\"])"
   ]
  },
  {
   "cell_type": "code",
   "execution_count": 5,
   "id": "f8410731",
   "metadata": {},
   "outputs": [
    {
     "data": {
      "text/plain": [
       "N    1029\n",
       "I     996\n",
       "T     664\n",
       "R     451\n",
       "Name: Condition, dtype: int64"
      ]
     },
     "execution_count": 5,
     "metadata": {},
     "output_type": "execute_result"
    }
   ],
   "source": [
    "swell[\"Condition\"].value_counts()"
   ]
  },
  {
   "cell_type": "code",
   "execution_count": 6,
   "id": "7a2e4bbf",
   "metadata": {},
   "outputs": [
    {
     "data": {
      "text/html": [
       "<div>\n",
       "<style scoped>\n",
       "    .dataframe tbody tr th:only-of-type {\n",
       "        vertical-align: middle;\n",
       "    }\n",
       "\n",
       "    .dataframe tbody tr th {\n",
       "        vertical-align: top;\n",
       "    }\n",
       "\n",
       "    .dataframe thead th {\n",
       "        text-align: right;\n",
       "    }\n",
       "</style>\n",
       "<table border=\"1\" class=\"dataframe\">\n",
       "  <thead>\n",
       "    <tr style=\"text-align: right;\">\n",
       "      <th></th>\n",
       "      <th>PP</th>\n",
       "      <th>Condition</th>\n",
       "      <th>HR</th>\n",
       "      <th>RMSSD</th>\n",
       "      <th>SCL</th>\n",
       "    </tr>\n",
       "  </thead>\n",
       "  <tbody>\n",
       "    <tr>\n",
       "      <th>0</th>\n",
       "      <td>PP1</td>\n",
       "      <td>R</td>\n",
       "      <td>999</td>\n",
       "      <td>999.000000</td>\n",
       "      <td>80.239727</td>\n",
       "    </tr>\n",
       "    <tr>\n",
       "      <th>1</th>\n",
       "      <td>PP1</td>\n",
       "      <td>R</td>\n",
       "      <td>61</td>\n",
       "      <td>0.061420</td>\n",
       "      <td>77.365127</td>\n",
       "    </tr>\n",
       "    <tr>\n",
       "      <th>2</th>\n",
       "      <td>PP1</td>\n",
       "      <td>R</td>\n",
       "      <td>64</td>\n",
       "      <td>0.049663</td>\n",
       "      <td>77.359559</td>\n",
       "    </tr>\n",
       "    <tr>\n",
       "      <th>3</th>\n",
       "      <td>PP1</td>\n",
       "      <td>R</td>\n",
       "      <td>60</td>\n",
       "      <td>0.052487</td>\n",
       "      <td>76.728772</td>\n",
       "    </tr>\n",
       "    <tr>\n",
       "      <th>4</th>\n",
       "      <td>PP1</td>\n",
       "      <td>R</td>\n",
       "      <td>61</td>\n",
       "      <td>0.051189</td>\n",
       "      <td>76.512877</td>\n",
       "    </tr>\n",
       "    <tr>\n",
       "      <th>...</th>\n",
       "      <td>...</td>\n",
       "      <td>...</td>\n",
       "      <td>...</td>\n",
       "      <td>...</td>\n",
       "      <td>...</td>\n",
       "    </tr>\n",
       "    <tr>\n",
       "      <th>3135</th>\n",
       "      <td>PP25</td>\n",
       "      <td>T</td>\n",
       "      <td>999</td>\n",
       "      <td>999.000000</td>\n",
       "      <td>999.000000</td>\n",
       "    </tr>\n",
       "    <tr>\n",
       "      <th>3136</th>\n",
       "      <td>PP25</td>\n",
       "      <td>T</td>\n",
       "      <td>999</td>\n",
       "      <td>999.000000</td>\n",
       "      <td>999.000000</td>\n",
       "    </tr>\n",
       "    <tr>\n",
       "      <th>3137</th>\n",
       "      <td>PP25</td>\n",
       "      <td>T</td>\n",
       "      <td>999</td>\n",
       "      <td>999.000000</td>\n",
       "      <td>999.000000</td>\n",
       "    </tr>\n",
       "    <tr>\n",
       "      <th>3138</th>\n",
       "      <td>PP25</td>\n",
       "      <td>T</td>\n",
       "      <td>999</td>\n",
       "      <td>999.000000</td>\n",
       "      <td>999.000000</td>\n",
       "    </tr>\n",
       "    <tr>\n",
       "      <th>3139</th>\n",
       "      <td>PP25</td>\n",
       "      <td>T</td>\n",
       "      <td>999</td>\n",
       "      <td>999.000000</td>\n",
       "      <td>999.000000</td>\n",
       "    </tr>\n",
       "  </tbody>\n",
       "</table>\n",
       "<p>3140 rows × 5 columns</p>\n",
       "</div>"
      ],
      "text/plain": [
       "        PP Condition   HR       RMSSD         SCL\n",
       "0      PP1         R  999  999.000000   80.239727\n",
       "1      PP1         R   61    0.061420   77.365127\n",
       "2      PP1         R   64    0.049663   77.359559\n",
       "3      PP1         R   60    0.052487   76.728772\n",
       "4      PP1         R   61    0.051189   76.512877\n",
       "...    ...       ...  ...         ...         ...\n",
       "3135  PP25         T  999  999.000000  999.000000\n",
       "3136  PP25         T  999  999.000000  999.000000\n",
       "3137  PP25         T  999  999.000000  999.000000\n",
       "3138  PP25         T  999  999.000000  999.000000\n",
       "3139  PP25         T  999  999.000000  999.000000\n",
       "\n",
       "[3140 rows x 5 columns]"
      ]
     },
     "execution_count": 6,
     "metadata": {},
     "output_type": "execute_result"
    }
   ],
   "source": [
    "swell"
   ]
  },
  {
   "cell_type": "code",
   "execution_count": 7,
   "id": "cf1c0fe3",
   "metadata": {},
   "outputs": [],
   "source": [
    "# swell['Condition'] = np.where(swell['Condition']=='N','No-Stress',swell['Condition'])\n",
    "# swell['Condition'] = np.where(swell['Condition']=='R','No-Stress',swell['Condition'])\n",
    "# swell['Condition'] = np.where(swell['Condition']=='I','Stress',swell['Condition'])\n",
    "# swell['Condition'] = np.where(swell['Condition']=='T','Stress',swell['Condition'])\n",
    "\n",
    "swell['Condition'] = np.where(swell['Condition']=='N',0,swell['Condition'])\n",
    "swell['Condition'] = np.where(swell['Condition']=='R',0,swell['Condition'])\n",
    "swell['Condition'] = np.where(swell['Condition']=='I',1,swell['Condition'])\n",
    "swell['Condition'] = np.where(swell['Condition']=='T',1,swell['Condition'])"
   ]
  },
  {
   "cell_type": "code",
   "execution_count": 8,
   "id": "94738761",
   "metadata": {},
   "outputs": [
    {
     "data": {
      "text/plain": [
       "Index(['PP', 'Condition', 'HR', 'RMSSD', 'SCL'], dtype='object')"
      ]
     },
     "execution_count": 8,
     "metadata": {},
     "output_type": "execute_result"
    }
   ],
   "source": [
    "swell.columns"
   ]
  },
  {
   "cell_type": "code",
   "execution_count": 13,
   "id": "ad88eee8",
   "metadata": {},
   "outputs": [],
   "source": [
    "def train_test_split_per_user(data, train_size=0.7):\n",
    "    users = list(set(data.PP))\n",
    "    users = sorted(users, reverse=True)  # fix randomness\n",
    "    total_users = len(users)\n",
    "    slice = int(train_size * total_users)\n",
    "    users_train = users[:slice]\n",
    "    users_test = users[slice:]\n",
    "    return data[data.PP.isin(users_train)], data[data.PP.isin(users_test)]"
   ]
  },
  {
   "cell_type": "code",
   "execution_count": 14,
   "id": "141f3fe0",
   "metadata": {},
   "outputs": [],
   "source": [
    "from sklearn.model_selection import train_test_split\n",
    "\n",
    "train_data, test_data = train_test_split_per_user(swell)\n",
    "# train_data, test_data = train_test_split(swell)\n",
    "\n",
    "fold_groups = train_data.PP\n",
    "\n",
    "# Save the 'id' column from the test set\n",
    "test_ids = test_data['PP']\n",
    "\n",
    "train_data = train_data.drop(columns=['PP'])\n",
    "test_data = test_data.drop(columns=['PP'])"
   ]
  },
  {
   "cell_type": "code",
   "execution_count": 15,
   "id": "53245478",
   "metadata": {},
   "outputs": [
    {
     "name": "stderr",
     "output_type": "stream",
     "text": [
      "                                                           "
     ]
    },
    {
     "name": "stdout",
     "output_type": "stream",
     "text": [
      "                                    Model  Accuracy     AUC  Recall   Prec.  \\\n",
      "lr                    Logistic Regression    0.5310  0.5384  0.5963  0.5402   \n",
      "ada                  Ada Boost Classifier    0.5114  0.5085  0.5542  0.5387   \n",
      "ridge                    Ridge Classifier    0.5327  0.0000  0.5263  0.5516   \n",
      "lda          Linear Discriminant Analysis    0.5321  0.5258  0.5236  0.5511   \n",
      "qda       Quadratic Discriminant Analysis    0.5136  0.5208  0.5057  0.5481   \n",
      "gbc          Gradient Boosting Classifier    0.5034  0.4774  0.4931  0.5325   \n",
      "dt               Decision Tree Classifier    0.4818  0.4648  0.4808  0.5099   \n",
      "nb                            Naive Bayes    0.5173  0.5384  0.4767  0.5382   \n",
      "rf               Random Forest Classifier    0.4781  0.4629  0.4537  0.5073   \n",
      "lightgbm  Light Gradient Boosting Machine    0.4761  0.4468  0.4413  0.5059   \n",
      "svm                   SVM - Linear Kernel    0.4895  0.0000  0.4398  0.5177   \n",
      "et                 Extra Trees Classifier    0.4713  0.4668  0.4417  0.4981   \n",
      "knn                K Neighbors Classifier    0.4883  0.4820  0.3801  0.5157   \n",
      "dummy                    Dummy Classifier    0.4714  0.5000  0.0000  0.0000   \n",
      "\n",
      "              F1   Kappa     MCC  TT (Sec)  \n",
      "lr        0.5549  0.0606  0.0627    0.0267  \n",
      "ada       0.5427  0.0209  0.0216    0.0767  \n",
      "ridge     0.5323  0.0703  0.0685    0.0167  \n",
      "lda       0.5302  0.0694  0.0675    0.0200  \n",
      "qda       0.5218  0.0314  0.0315    0.0233  \n",
      "gbc       0.5090  0.0111  0.0112    0.1033  \n",
      "dt        0.4948 -0.0364 -0.0366    0.0200  \n",
      "nb        0.4882  0.0418  0.0409    0.0200  \n",
      "rf        0.4783 -0.0404 -0.0407    0.1500  \n",
      "lightgbm  0.4704 -0.0428 -0.0432    0.1200  \n",
      "svm       0.4689 -0.0200 -0.0213    0.0300  \n",
      "et        0.4666 -0.0527 -0.0541    0.1367  \n",
      "knn       0.4270 -0.0041 -0.0075    0.0433  \n",
      "dummy     0.0000  0.0000  0.0000    0.0233  \n"
     ]
    },
    {
     "name": "stderr",
     "output_type": "stream",
     "text": [
      "\r"
     ]
    }
   ],
   "source": [
    "grid = setup(data=train_data, target='Condition', fix_imbalance = True, html=False, verbose=False, fold_strategy='groupkfold', fold=3, fold_groups=fold_groups, test_data=test_data) #fix_imbalance = True,\n",
    "best = compare_models(sort='F1')"
   ]
  },
  {
   "cell_type": "code",
   "execution_count": 20,
   "id": "208d482f",
   "metadata": {},
   "outputs": [
    {
     "name": "stdout",
     "output_type": "stream",
     "text": [
      "LogisticRegression(C=1.0, class_weight=None, dual=False, fit_intercept=True,\n",
      "                   intercept_scaling=1, l1_ratio=None, max_iter=1000,\n",
      "                   multi_class='auto', n_jobs=None, penalty='l2',\n",
      "                   random_state=8825, solver='lbfgs', tol=0.0001, verbose=0,\n",
      "                   warm_start=False)\n"
     ]
    },
    {
     "data": {
      "application/vnd.jupyter.widget-view+json": {
       "model_id": "1c391ba852ce4f22bae148d49d127ce8",
       "version_major": 2,
       "version_minor": 0
      },
      "text/plain": [
       "interactive(children=(ToggleButtons(description='Plot Type:', icons=('',), options=(('Pipeline Plot', 'pipelin…"
      ]
     },
     "metadata": {},
     "output_type": "display_data"
    }
   ],
   "source": [
    "print(best)\n",
    "# plot_model(best)\n",
    "evaluate_model(best)"
   ]
  },
  {
   "cell_type": "code",
   "execution_count": 21,
   "id": "6fc76bd3",
   "metadata": {},
   "outputs": [
    {
     "name": "stdout",
     "output_type": "stream",
     "text": [
      "                 Model  Accuracy     AUC  Recall   Prec.      F1   Kappa  \\\n",
      "0  Logistic Regression    0.5373  0.5841  0.5918  0.5596  0.5753  0.0681   \n",
      "\n",
      "      MCC  \n",
      "0  0.0682  \n"
     ]
    }
   ],
   "source": [
    "predictions = predict_model(best, data=test_data)"
   ]
  },
  {
   "cell_type": "code",
   "execution_count": 22,
   "id": "accdfde5",
   "metadata": {},
   "outputs": [
    {
     "name": "stdout",
     "output_type": "stream",
     "text": [
      "Index(['HR', 'RMSSD', 'SCL', 'Condition', 'prediction_label',\n",
      "       'prediction_score'],\n",
      "      dtype='object')\n"
     ]
    }
   ],
   "source": [
    "print(predictions.columns)"
   ]
  },
  {
   "cell_type": "code",
   "execution_count": 139,
   "id": "9428b124",
   "metadata": {},
   "outputs": [],
   "source": [
    "# Add 'id' column back to predictions DataFrame\n",
    "predictions['PP'] = test_ids  # Use the 'id' column from the test data"
   ]
  },
  {
   "cell_type": "code",
   "execution_count": 140,
   "id": "8e141370",
   "metadata": {},
   "outputs": [
    {
     "name": "stdout",
     "output_type": "stream",
     "text": [
      "0        PP1\n",
      "1        PP1\n",
      "2        PP1\n",
      "3        PP1\n",
      "4        PP1\n",
      "        ... \n",
      "2009    PP16\n",
      "2010    PP16\n",
      "2011    PP16\n",
      "2012    PP16\n",
      "2013    PP16\n",
      "Name: PP, Length: 1018, dtype: object\n"
     ]
    }
   ],
   "source": [
    "print(predictions['PP'])"
   ]
  },
  {
   "cell_type": "code",
   "execution_count": 141,
   "id": "92bab654",
   "metadata": {},
   "outputs": [
    {
     "name": "stdout",
     "output_type": "stream",
     "text": [
      "Index(['HR', 'RMSSD', 'SCL', 'Condition', 'prediction_label',\n",
      "       'prediction_score', 'PP'],\n",
      "      dtype='object')\n"
     ]
    }
   ],
   "source": [
    "print(predictions.columns)"
   ]
  },
  {
   "cell_type": "code",
   "execution_count": 142,
   "id": "48645ff0",
   "metadata": {},
   "outputs": [
    {
     "name": "stdout",
     "output_type": "stream",
     "text": [
      "       HR       RMSSD         SCL Condition  prediction_label  \\\n",
      "0     999  999.000000   80.239723         0                 0   \n",
      "1      61    0.061420   77.365128         0                 1   \n",
      "2      64    0.049663   77.359558         0                 0   \n",
      "3      60    0.052487   76.728775         0                 1   \n",
      "4      61    0.051189   76.512878         0                 1   \n",
      "...   ...         ...         ...       ...               ...   \n",
      "2009   82    0.074241  179.787384         1                 1   \n",
      "2010   78    0.089203  176.769348         1                 1   \n",
      "2011   83    0.084138  174.879044         1                 1   \n",
      "2012   79    0.083535  179.373138         1                 1   \n",
      "2013   74    0.094341  171.047012         1                 1   \n",
      "\n",
      "      prediction_score    PP  \n",
      "0               0.5896   PP1  \n",
      "1               0.5002   PP1  \n",
      "2               0.5004   PP1  \n",
      "3               0.5003   PP1  \n",
      "4               0.5001   PP1  \n",
      "...                ...   ...  \n",
      "2009            0.5121  PP16  \n",
      "2010            0.5124  PP16  \n",
      "2011            0.5111  PP16  \n",
      "2012            0.5126  PP16  \n",
      "2013            0.5123  PP16  \n",
      "\n",
      "[1018 rows x 7 columns]\n"
     ]
    }
   ],
   "source": [
    "print(predictions)"
   ]
  },
  {
   "cell_type": "code",
   "execution_count": 143,
   "id": "902304f3",
   "metadata": {},
   "outputs": [
    {
     "name": "stdout",
     "output_type": "stream",
     "text": [
      "       HR       RMSSD         SCL Condition  prediction_label  \\\n",
      "0     999  999.000000   80.239723         0                 0   \n",
      "1      61    0.061420   77.365128         0                 1   \n",
      "2      64    0.049663   77.359558         0                 0   \n",
      "3      60    0.052487   76.728775         0                 1   \n",
      "4      61    0.051189   76.512878         0                 1   \n",
      "...   ...         ...         ...       ...               ...   \n",
      "1013   82    0.074241  179.787384         1                 1   \n",
      "1014   78    0.089203  176.769348         1                 1   \n",
      "1015   83    0.084138  174.879044         1                 1   \n",
      "1016   79    0.083535  179.373138         1                 1   \n",
      "1017   74    0.094341  171.047012         1                 1   \n",
      "\n",
      "      prediction_score    PP  Age Gender Occupation Dominant hand Glasses  \\\n",
      "0               0.5896   PP1   27      m    student         right      no   \n",
      "1               0.5002   PP1   27      m    student         right      no   \n",
      "2               0.5004   PP1   27      m    student         right      no   \n",
      "3               0.5003   PP1   27      m    student         right      no   \n",
      "4               0.5001   PP1   27      m    student         right      no   \n",
      "...                ...   ...  ...    ...        ...           ...     ...   \n",
      "1013            0.5121  PP16   27      f    student         right     yes   \n",
      "1014            0.5124  PP16   27      f    student         right     yes   \n",
      "1015            0.5111  PP16   27      f    student         right     yes   \n",
      "1016            0.5126  PP16   27      f    student         right     yes   \n",
      "1017            0.5123  PP16   27      f    student         right     yes   \n",
      "\n",
      "      smoke  coffee  alcohol  physical  stress heart disease medicine  \\\n",
      "0         6       6        6         6       6            no       no   \n",
      "1         6       6        6         6       6            no       no   \n",
      "2         6       6        6         6       6            no       no   \n",
      "3         6       6        6         6       6            no       no   \n",
      "4         6       6        6         6       6            no       no   \n",
      "...     ...     ...      ...       ...     ...           ...      ...   \n",
      "1013      6       6        6         2       1            no       no   \n",
      "1014      6       6        6         2       1            no       no   \n",
      "1015      6       6        6         2       1            no       no   \n",
      "1016      6       6        6         2       1            no       no   \n",
      "1017      6       6        6         2       1            no       no   \n",
      "\n",
      "     Internal control index  \n",
      "0                      2,93  \n",
      "1                      2,93  \n",
      "2                      2,93  \n",
      "3                      2,93  \n",
      "4                      2,93  \n",
      "...                     ...  \n",
      "1013                   3,61  \n",
      "1014                   3,61  \n",
      "1015                   3,61  \n",
      "1016                   3,61  \n",
      "1017                   3,61  \n",
      "\n",
      "[1018 rows x 20 columns]\n"
     ]
    }
   ],
   "source": [
    "# Load the CSV data into a pandas dataframe\n",
    "df_user_info = pd.read_csv(\"Scored_Surveys/swell_person.csv\", sep=\";\")\n",
    "\n",
    "# Merge the dataframes based on the 'PP' column\n",
    "predictions_with_info = predictions.merge(df_user_info, on=\"PP\", how=\"left\")\n",
    "\n",
    "# Print the result\n",
    "print(predictions_with_info)"
   ]
  },
  {
   "cell_type": "code",
   "execution_count": 144,
   "id": "aebf8d34",
   "metadata": {},
   "outputs": [
    {
     "name": "stdout",
     "output_type": "stream",
     "text": [
      "       HR       RMSSD         SCL Condition  prediction_label  \\\n",
      "0     999  999.000000   80.239723         0                 0   \n",
      "1      61    0.061420   77.365128         0                 1   \n",
      "2      64    0.049663   77.359558         0                 0   \n",
      "3      60    0.052487   76.728775         0                 1   \n",
      "4      61    0.051189   76.512878         0                 1   \n",
      "...   ...         ...         ...       ...               ...   \n",
      "1013   82    0.074241  179.787384         1                 1   \n",
      "1014   78    0.089203  176.769348         1                 1   \n",
      "1015   83    0.084138  174.879044         1                 1   \n",
      "1016   79    0.083535  179.373138         1                 1   \n",
      "1017   74    0.094341  171.047012         1                 1   \n",
      "\n",
      "      prediction_score    PP  Age Gender Occupation Dominant hand Glasses  \\\n",
      "0               0.5896   PP1   27      m    student         right      no   \n",
      "1               0.5002   PP1   27      m    student         right      no   \n",
      "2               0.5004   PP1   27      m    student         right      no   \n",
      "3               0.5003   PP1   27      m    student         right      no   \n",
      "4               0.5001   PP1   27      m    student         right      no   \n",
      "...                ...   ...  ...    ...        ...           ...     ...   \n",
      "1013            0.5121  PP16   27      f    student         right     yes   \n",
      "1014            0.5124  PP16   27      f    student         right     yes   \n",
      "1015            0.5111  PP16   27      f    student         right     yes   \n",
      "1016            0.5126  PP16   27      f    student         right     yes   \n",
      "1017            0.5123  PP16   27      f    student         right     yes   \n",
      "\n",
      "      smoke  coffee  alcohol  physical  stress heart disease medicine  \\\n",
      "0         6       6        6         6       6            no       no   \n",
      "1         6       6        6         6       6            no       no   \n",
      "2         6       6        6         6       6            no       no   \n",
      "3         6       6        6         6       6            no       no   \n",
      "4         6       6        6         6       6            no       no   \n",
      "...     ...     ...      ...       ...     ...           ...      ...   \n",
      "1013      6       6        6         2       1            no       no   \n",
      "1014      6       6        6         2       1            no       no   \n",
      "1015      6       6        6         2       1            no       no   \n",
      "1016      6       6        6         2       1            no       no   \n",
      "1017      6       6        6         2       1            no       no   \n",
      "\n",
      "     Internal control index  \n",
      "0                      2,93  \n",
      "1                      2,93  \n",
      "2                      2,93  \n",
      "3                      2,93  \n",
      "4                      2,93  \n",
      "...                     ...  \n",
      "1013                   3,61  \n",
      "1014                   3,61  \n",
      "1015                   3,61  \n",
      "1016                   3,61  \n",
      "1017                   3,61  \n",
      "\n",
      "[1018 rows x 20 columns]\n"
     ]
    }
   ],
   "source": [
    "print(predictions_with_info)"
   ]
  },
  {
   "cell_type": "code",
   "execution_count": 145,
   "id": "78835e3e",
   "metadata": {},
   "outputs": [],
   "source": [
    "import os\n",
    "\n",
    "# Specify folder name\n",
    "folder_name = \"Output_Files\"\n",
    "\n",
    "id = predictions_with_info['PP']\n",
    "\n",
    "# Extract true labels (y_true), rename the column\n",
    "y_true = predictions_with_info[['Condition']].rename(columns={'Condition': 'y_true'})\n",
    "\n",
    "# Extract predicted labels (y_pred), rename the column\n",
    "y_pred = predictions_with_info[['prediction_label']].rename(columns={'prediction_label': 'y_pred'})\n",
    "\n",
    "# Identify protected attribute columns\n",
    "protected_attributes = predictions_with_info[['Age', 'Gender', 'Occupation']]\n",
    "\n",
    "# Concatenate DataFrames containing predictions and protected attributes\n",
    "all_data = pd.concat([id, y_true, y_pred, protected_attributes], axis=1)\n",
    "\n",
    "# Create filename\n",
    "filename = f\"SWELL_Generic_Model.csv\"\n",
    "\n",
    "# Create folder if it doesn't exist\n",
    "if not os.path.exists(folder_name):\n",
    "    os.makedirs(folder_name)\n",
    "\n",
    "# Create full path with folder name\n",
    "filepath = os.path.join(folder_name, filename)\n",
    "\n",
    "# Save predictions\n",
    "all_data.to_csv(filepath, index=False)"
   ]
  },
  {
   "cell_type": "code",
   "execution_count": 146,
   "id": "ed08ad8f",
   "metadata": {},
   "outputs": [
    {
     "name": "stdout",
     "output_type": "stream",
     "text": [
      "Number of rows with different y_pred and y_true values: 461\n"
     ]
    }
   ],
   "source": [
    "mismatched_predictions = (all_data['y_pred'] != all_data['y_true']).sum()\n",
    "\n",
    "print(f\"Number of rows with different y_pred and y_true values: {mismatched_predictions}\")"
   ]
  },
  {
   "cell_type": "code",
   "execution_count": 147,
   "id": "31f94c09",
   "metadata": {},
   "outputs": [
    {
     "name": "stdout",
     "output_type": "stream",
     "text": [
      "Number of rows with same y_pred and y_true values: 557\n"
     ]
    }
   ],
   "source": [
    "matched_predictions = (all_data['y_pred'] == all_data['y_true']).sum()\n",
    "\n",
    "print(f\"Number of rows with same y_pred and y_true values: {matched_predictions}\")"
   ]
  },
  {
   "cell_type": "code",
   "execution_count": 148,
   "id": "87e96bf8",
   "metadata": {},
   "outputs": [
    {
     "name": "stdout",
     "output_type": "stream",
     "text": [
      "0.5471512770137524\n"
     ]
    }
   ],
   "source": [
    "accuracy = matched_predictions / (matched_predictions+mismatched_predictions)\n",
    "print(accuracy)"
   ]
  },
  {
   "cell_type": "markdown",
   "id": "2b706366",
   "metadata": {},
   "source": [
    "### ML model trained with protected attributes"
   ]
  },
  {
   "cell_type": "code",
   "execution_count": 149,
   "id": "040c9883",
   "metadata": {},
   "outputs": [],
   "source": [
    "swell = pd.read_csv(\"Final_CSVs/swell.csv\")"
   ]
  },
  {
   "cell_type": "code",
   "execution_count": 150,
   "id": "5fd69afe",
   "metadata": {},
   "outputs": [],
   "source": [
    "swell = swell.drop(columns=[\"Unnamed: 7\", \"Unnamed: 8\", \"Unnamed: 9\", \"Unnamed: 10\", \"Unnamed: 11\", \"timestamp\", \"C\"])"
   ]
  },
  {
   "cell_type": "code",
   "execution_count": 151,
   "id": "84caec12",
   "metadata": {},
   "outputs": [],
   "source": [
    "# swell['Condition'] = np.where(swell['Condition']=='N','No-Stress',swell['Condition'])\n",
    "# swell['Condition'] = np.where(swell['Condition']=='R','No-Stress',swell['Condition'])\n",
    "# swell['Condition'] = np.where(swell['Condition']=='I','Stress',swell['Condition'])\n",
    "# swell['Condition'] = np.where(swell['Condition']=='T','Stress',swell['Condition'])\n",
    "\n",
    "swell['Condition'] = np.where(swell['Condition']=='N',0,swell['Condition'])\n",
    "swell['Condition'] = np.where(swell['Condition']=='R',0,swell['Condition'])\n",
    "swell['Condition'] = np.where(swell['Condition']=='I',1,swell['Condition'])\n",
    "swell['Condition'] = np.where(swell['Condition']=='T',1,swell['Condition'])"
   ]
  },
  {
   "cell_type": "code",
   "execution_count": 152,
   "id": "97886734",
   "metadata": {},
   "outputs": [
    {
     "data": {
      "text/html": [
       "<div>\n",
       "<style scoped>\n",
       "    .dataframe tbody tr th:only-of-type {\n",
       "        vertical-align: middle;\n",
       "    }\n",
       "\n",
       "    .dataframe tbody tr th {\n",
       "        vertical-align: top;\n",
       "    }\n",
       "\n",
       "    .dataframe thead th {\n",
       "        text-align: right;\n",
       "    }\n",
       "</style>\n",
       "<table border=\"1\" class=\"dataframe\">\n",
       "  <thead>\n",
       "    <tr style=\"text-align: right;\">\n",
       "      <th></th>\n",
       "      <th>PP</th>\n",
       "      <th>Condition</th>\n",
       "      <th>HR</th>\n",
       "      <th>RMSSD</th>\n",
       "      <th>SCL</th>\n",
       "    </tr>\n",
       "  </thead>\n",
       "  <tbody>\n",
       "    <tr>\n",
       "      <th>0</th>\n",
       "      <td>PP1</td>\n",
       "      <td>0</td>\n",
       "      <td>999</td>\n",
       "      <td>999.000000</td>\n",
       "      <td>80.239727</td>\n",
       "    </tr>\n",
       "    <tr>\n",
       "      <th>1</th>\n",
       "      <td>PP1</td>\n",
       "      <td>0</td>\n",
       "      <td>61</td>\n",
       "      <td>0.061420</td>\n",
       "      <td>77.365127</td>\n",
       "    </tr>\n",
       "    <tr>\n",
       "      <th>2</th>\n",
       "      <td>PP1</td>\n",
       "      <td>0</td>\n",
       "      <td>64</td>\n",
       "      <td>0.049663</td>\n",
       "      <td>77.359559</td>\n",
       "    </tr>\n",
       "    <tr>\n",
       "      <th>3</th>\n",
       "      <td>PP1</td>\n",
       "      <td>0</td>\n",
       "      <td>60</td>\n",
       "      <td>0.052487</td>\n",
       "      <td>76.728772</td>\n",
       "    </tr>\n",
       "    <tr>\n",
       "      <th>4</th>\n",
       "      <td>PP1</td>\n",
       "      <td>0</td>\n",
       "      <td>61</td>\n",
       "      <td>0.051189</td>\n",
       "      <td>76.512877</td>\n",
       "    </tr>\n",
       "    <tr>\n",
       "      <th>...</th>\n",
       "      <td>...</td>\n",
       "      <td>...</td>\n",
       "      <td>...</td>\n",
       "      <td>...</td>\n",
       "      <td>...</td>\n",
       "    </tr>\n",
       "    <tr>\n",
       "      <th>3135</th>\n",
       "      <td>PP25</td>\n",
       "      <td>1</td>\n",
       "      <td>999</td>\n",
       "      <td>999.000000</td>\n",
       "      <td>999.000000</td>\n",
       "    </tr>\n",
       "    <tr>\n",
       "      <th>3136</th>\n",
       "      <td>PP25</td>\n",
       "      <td>1</td>\n",
       "      <td>999</td>\n",
       "      <td>999.000000</td>\n",
       "      <td>999.000000</td>\n",
       "    </tr>\n",
       "    <tr>\n",
       "      <th>3137</th>\n",
       "      <td>PP25</td>\n",
       "      <td>1</td>\n",
       "      <td>999</td>\n",
       "      <td>999.000000</td>\n",
       "      <td>999.000000</td>\n",
       "    </tr>\n",
       "    <tr>\n",
       "      <th>3138</th>\n",
       "      <td>PP25</td>\n",
       "      <td>1</td>\n",
       "      <td>999</td>\n",
       "      <td>999.000000</td>\n",
       "      <td>999.000000</td>\n",
       "    </tr>\n",
       "    <tr>\n",
       "      <th>3139</th>\n",
       "      <td>PP25</td>\n",
       "      <td>1</td>\n",
       "      <td>999</td>\n",
       "      <td>999.000000</td>\n",
       "      <td>999.000000</td>\n",
       "    </tr>\n",
       "  </tbody>\n",
       "</table>\n",
       "<p>3140 rows × 5 columns</p>\n",
       "</div>"
      ],
      "text/plain": [
       "        PP Condition   HR       RMSSD         SCL\n",
       "0      PP1         0  999  999.000000   80.239727\n",
       "1      PP1         0   61    0.061420   77.365127\n",
       "2      PP1         0   64    0.049663   77.359559\n",
       "3      PP1         0   60    0.052487   76.728772\n",
       "4      PP1         0   61    0.051189   76.512877\n",
       "...    ...       ...  ...         ...         ...\n",
       "3135  PP25         1  999  999.000000  999.000000\n",
       "3136  PP25         1  999  999.000000  999.000000\n",
       "3137  PP25         1  999  999.000000  999.000000\n",
       "3138  PP25         1  999  999.000000  999.000000\n",
       "3139  PP25         1  999  999.000000  999.000000\n",
       "\n",
       "[3140 rows x 5 columns]"
      ]
     },
     "execution_count": 152,
     "metadata": {},
     "output_type": "execute_result"
    }
   ],
   "source": [
    "swell"
   ]
  },
  {
   "cell_type": "code",
   "execution_count": 153,
   "id": "e9f4d32f",
   "metadata": {},
   "outputs": [
    {
     "name": "stdout",
     "output_type": "stream",
     "text": [
      "        PP Condition   HR       RMSSD         SCL  Age Gender  \\\n",
      "0      PP1         0  999  999.000000   80.239727   27      m   \n",
      "1      PP1         0   61    0.061420   77.365127   27      m   \n",
      "2      PP1         0   64    0.049663   77.359559   27      m   \n",
      "3      PP1         0   60    0.052487   76.728772   27      m   \n",
      "4      PP1         0   61    0.051189   76.512877   27      m   \n",
      "...    ...       ...  ...         ...         ...  ...    ...   \n",
      "3135  PP25         1  999  999.000000  999.000000   26      m   \n",
      "3136  PP25         1  999  999.000000  999.000000   26      m   \n",
      "3137  PP25         1  999  999.000000  999.000000   26      m   \n",
      "3138  PP25         1  999  999.000000  999.000000   26      m   \n",
      "3139  PP25         1  999  999.000000  999.000000   26      m   \n",
      "\n",
      "                      Occupation Dominant hand Glasses  smoke  coffee  \\\n",
      "0                        student         right      no      6       6   \n",
      "1                        student         right      no      6       6   \n",
      "2                        student         right      no      6       6   \n",
      "3                        student         right      no      6       6   \n",
      "4                        student         right      no      6       6   \n",
      "...                          ...           ...     ...    ...     ...   \n",
      "3135  MSc Technische Informatica         right     yes      6       6   \n",
      "3136  MSc Technische Informatica         right     yes      6       6   \n",
      "3137  MSc Technische Informatica         right     yes      6       6   \n",
      "3138  MSc Technische Informatica         right     yes      6       6   \n",
      "3139  MSc Technische Informatica         right     yes      6       6   \n",
      "\n",
      "      alcohol  physical  stress heart disease medicine Internal control index  \n",
      "0           6         6       6            no       no                   2,93  \n",
      "1           6         6       6            no       no                   2,93  \n",
      "2           6         6       6            no       no                   2,93  \n",
      "3           6         6       6            no       no                   2,93  \n",
      "4           6         6       6            no       no                   2,93  \n",
      "...       ...       ...     ...           ...      ...                    ...  \n",
      "3135        6         2       6            no       no                   3,79  \n",
      "3136        6         2       6            no       no                   3,79  \n",
      "3137        6         2       6            no       no                   3,79  \n",
      "3138        6         2       6            no       no                   3,79  \n",
      "3139        6         2       6            no       no                   3,79  \n",
      "\n",
      "[3140 rows x 18 columns]\n"
     ]
    }
   ],
   "source": [
    "# Load the CSV data into a pandas dataframe\n",
    "df_user_info = pd.read_csv(\"Scored_Surveys/swell_person.csv\", sep=\";\")\n",
    "\n",
    "# Merge the dataframes based on the 'PP' column\n",
    "swell_with_info = swell.merge(df_user_info, on=\"PP\", how=\"left\")\n",
    "\n",
    "# Print the result\n",
    "print(swell_with_info)"
   ]
  },
  {
   "cell_type": "code",
   "execution_count": 154,
   "id": "6680edb6",
   "metadata": {},
   "outputs": [
    {
     "name": "stdout",
     "output_type": "stream",
     "text": [
      "0       27\n",
      "1       27\n",
      "2       27\n",
      "3       27\n",
      "4       27\n",
      "        ..\n",
      "3135    26\n",
      "3136    26\n",
      "3137    26\n",
      "3138    26\n",
      "3139    26\n",
      "Name: Age, Length: 3140, dtype: int64\n"
     ]
    }
   ],
   "source": [
    "print(swell_with_info['Age'])"
   ]
  },
  {
   "cell_type": "code",
   "execution_count": 155,
   "id": "85b274e7",
   "metadata": {},
   "outputs": [],
   "source": [
    "def train_test_split_per_user(data, train_size=0.7):\n",
    "    users = list(set(data.PP))\n",
    "    users = sorted(users, reverse=True)  # fix randomness\n",
    "    total_users = len(users)\n",
    "    slice = int(train_size * total_users)\n",
    "    users_train = users[:slice]\n",
    "    users_test = users[slice:]\n",
    "    return data[data.PP.isin(users_train)], data[data.PP.isin(users_test)]"
   ]
  },
  {
   "cell_type": "code",
   "execution_count": 156,
   "id": "d3db41aa",
   "metadata": {},
   "outputs": [],
   "source": [
    "train_data, test_data = train_test_split_per_user(swell_with_info)\n",
    "\n",
    "fold_groups = train_data.PP\n",
    "\n",
    "# Save the 'id' column from the test set\n",
    "test_ids = test_data['PP']\n",
    "\n",
    "train_data = train_data.drop(columns=['PP'])\n",
    "test_data = test_data.drop(columns=['PP'])"
   ]
  },
  {
   "cell_type": "code",
   "execution_count": 157,
   "id": "c65f2eae",
   "metadata": {},
   "outputs": [
    {
     "name": "stderr",
     "output_type": "stream",
     "text": [
      "                                                           "
     ]
    },
    {
     "name": "stdout",
     "output_type": "stream",
     "text": [
      "                                    Model  Accuracy     AUC  Recall   Prec.  \\\n",
      "qda       Quadratic Discriminant Analysis    0.5286  0.5000  1.0000  0.5286   \n",
      "svm                   SVM - Linear Kernel    0.5399  0.0000  0.7194  0.5512   \n",
      "nb                            Naive Bayes    0.5140  0.5182  0.7411  0.5232   \n",
      "ridge                    Ridge Classifier    0.5364  0.0000  0.5548  0.5623   \n",
      "ada                  Ada Boost Classifier    0.5186  0.4997  0.5722  0.5412   \n",
      "lda          Linear Discriminant Analysis    0.5382  0.5330  0.5560  0.5562   \n",
      "knn                K Neighbors Classifier    0.5059  0.5136  0.4329  0.5458   \n",
      "lr                    Logistic Regression    0.5241  0.5282  0.3931  0.5625   \n",
      "dt               Decision Tree Classifier    0.5080  0.5261  0.3983  0.5373   \n",
      "gbc          Gradient Boosting Classifier    0.4823  0.4724  0.3834  0.5090   \n",
      "lightgbm  Light Gradient Boosting Machine    0.4511  0.4612  0.3595  0.4724   \n",
      "rf               Random Forest Classifier    0.4188  0.4174  0.1584  0.3809   \n",
      "et                 Extra Trees Classifier    0.4368  0.4202  0.1329  0.4155   \n",
      "dummy                    Dummy Classifier    0.4714  0.5000  0.0000  0.0000   \n",
      "\n",
      "              F1   Kappa     MCC  TT (Sec)  \n",
      "qda       0.6916  0.0000  0.0000    0.1000  \n",
      "svm       0.6223  0.0581  0.0601    0.1033  \n",
      "nb        0.5994 -0.0093 -0.0093    0.1700  \n",
      "ridge     0.5575  0.0721  0.0724    0.0867  \n",
      "ada       0.5562  0.0304  0.0306    0.1667  \n",
      "lda       0.5530  0.0749  0.0762    0.1033  \n",
      "knn       0.4777  0.0237  0.0253    0.1733  \n",
      "lr        0.4461  0.0573  0.0589    0.2600  \n",
      "dt        0.4358  0.0247  0.0266    0.0933  \n",
      "gbc       0.4302 -0.0181 -0.0217    0.2133  \n",
      "lightgbm  0.4081 -0.0863 -0.0897    0.2400  \n",
      "rf        0.2215 -0.1273 -0.1579    0.2000  \n",
      "et        0.1999 -0.0860 -0.1121    0.2400  \n",
      "dummy     0.0000  0.0000  0.0000    0.1000  \n"
     ]
    },
    {
     "name": "stderr",
     "output_type": "stream",
     "text": [
      "\r"
     ]
    }
   ],
   "source": [
    "grid = setup(data=train_data, target='Condition', fix_imbalance = True, html=False, verbose=False, fold_strategy='groupkfold', fold=3, fold_groups=fold_groups, test_data=test_data) #fix_imbalance = True,\n",
    "best = compare_models(sort='F1')"
   ]
  },
  {
   "cell_type": "code",
   "execution_count": 159,
   "id": "b6eaa4da",
   "metadata": {},
   "outputs": [
    {
     "name": "stdout",
     "output_type": "stream",
     "text": [
      "QuadraticDiscriminantAnalysis(priors=None, reg_param=0.0,\n",
      "                              store_covariance=False, tol=0.0001)\n"
     ]
    },
    {
     "data": {
      "application/vnd.jupyter.widget-view+json": {
       "model_id": "3554406f1f6e49f79a9d2bb2a08427b5",
       "version_major": 2,
       "version_minor": 0
      },
      "text/plain": [
       "interactive(children=(ToggleButtons(description='Plot Type:', icons=('',), options=(('Pipeline Plot', 'pipelin…"
      ]
     },
     "metadata": {},
     "output_type": "display_data"
    }
   ],
   "source": [
    "print(best)\n",
    "# plot_model(best)\n",
    "evaluate_model(best)"
   ]
  },
  {
   "cell_type": "code",
   "execution_count": 160,
   "id": "b302ac21",
   "metadata": {},
   "outputs": [
    {
     "name": "stdout",
     "output_type": "stream",
     "text": [
      "                             Model  Accuracy  AUC  Recall   Prec.      F1  \\\n",
      "0  Quadratic Discriminant Analysis    0.5295  0.5     1.0  0.5295  0.6924   \n",
      "\n",
      "   Kappa  MCC  \n",
      "0    0.0  0.0  \n"
     ]
    }
   ],
   "source": [
    "predictions = predict_model(best, data=test_data)"
   ]
  },
  {
   "cell_type": "code",
   "execution_count": 161,
   "id": "84d40ca3",
   "metadata": {},
   "outputs": [],
   "source": [
    "# Add 'id' column back to predictions DataFrame\n",
    "predictions['PP'] = test_ids  # Use the 'id' column from the test data"
   ]
  },
  {
   "cell_type": "code",
   "execution_count": 162,
   "id": "ec1bc74d",
   "metadata": {},
   "outputs": [
    {
     "data": {
      "text/plain": [
       "Index(['HR', 'RMSSD', 'SCL', 'Age', 'Gender', 'Occupation', 'Dominant hand',\n",
       "       'Glasses', 'smoke', 'coffee', 'alcohol', 'physical', 'stress',\n",
       "       'heart disease', 'medicine', 'Internal control index', 'Condition',\n",
       "       'prediction_label', 'prediction_score', 'PP'],\n",
       "      dtype='object')"
      ]
     },
     "execution_count": 162,
     "metadata": {},
     "output_type": "execute_result"
    }
   ],
   "source": [
    "predictions.columns"
   ]
  },
  {
   "cell_type": "code",
   "execution_count": 163,
   "id": "c1715a67",
   "metadata": {},
   "outputs": [],
   "source": [
    "import os\n",
    "\n",
    "# Specify folder name\n",
    "folder_name = \"Output_Files\"\n",
    "\n",
    "id = predictions['PP']\n",
    "\n",
    "# Extract true labels (y_true), rename the column\n",
    "y_true = predictions[['Condition']].rename(columns={'Condition': 'y_true'})\n",
    "\n",
    "# Extract predicted labels (y_pred), rename the column\n",
    "y_pred = predictions[['prediction_label']].rename(columns={'prediction_label': 'y_pred'})\n",
    "\n",
    "# Identify protected attribute columns\n",
    "protected_attributes = predictions[['Age', 'Gender', 'Occupation']]\n",
    "\n",
    "# Concatenate DataFrames containing predictions and protected attributes\n",
    "all_data = pd.concat([id, y_true, y_pred, protected_attributes], axis=1)\n",
    "\n",
    "# Create filename\n",
    "filename = f\"SWELL_Generic_Model_Bias.csv\"\n",
    "\n",
    "# Create folder if it doesn't exist\n",
    "if not os.path.exists(folder_name):\n",
    "    os.makedirs(folder_name)\n",
    "\n",
    "# Create full path with folder name\n",
    "filepath = os.path.join(folder_name, filename)\n",
    "\n",
    "# Save predictions\n",
    "all_data.to_csv(filepath, index=False)"
   ]
  },
  {
   "cell_type": "code",
   "execution_count": 164,
   "id": "10783334",
   "metadata": {},
   "outputs": [
    {
     "name": "stdout",
     "output_type": "stream",
     "text": [
      "Number of rows with different y_pred and y_true values: 479\n"
     ]
    }
   ],
   "source": [
    "mismatched_predictions = (all_data['y_pred'] != all_data['y_true']).sum()\n",
    "\n",
    "print(f\"Number of rows with different y_pred and y_true values: {mismatched_predictions}\")"
   ]
  },
  {
   "cell_type": "code",
   "execution_count": 165,
   "id": "2a117c0c",
   "metadata": {},
   "outputs": [
    {
     "name": "stdout",
     "output_type": "stream",
     "text": [
      "Number of rows with same y_pred and y_true values: 539\n"
     ]
    }
   ],
   "source": [
    "matched_predictions = (all_data['y_pred'] == all_data['y_true']).sum()\n",
    "\n",
    "print(f\"Number of rows with same y_pred and y_true values: {matched_predictions}\")"
   ]
  },
  {
   "cell_type": "code",
   "execution_count": 166,
   "id": "097a79f7",
   "metadata": {},
   "outputs": [
    {
     "name": "stdout",
     "output_type": "stream",
     "text": [
      "0.5294695481335953\n"
     ]
    }
   ],
   "source": [
    "accuracy = matched_predictions / (matched_predictions+mismatched_predictions)\n",
    "print(accuracy)"
   ]
  }
 ],
 "metadata": {
  "kernelspec": {
   "display_name": "Python 3",
   "language": "python",
   "name": "python3"
  },
  "language_info": {
   "codemirror_mode": {
    "name": "ipython",
    "version": 3
   },
   "file_extension": ".py",
   "mimetype": "text/x-python",
   "name": "python",
   "nbconvert_exporter": "python",
   "pygments_lexer": "ipython3",
   "version": "3.11.5"
  }
 },
 "nbformat": 4,
 "nbformat_minor": 5
}
