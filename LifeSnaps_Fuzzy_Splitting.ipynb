{
 "cells": [
  {
   "cell_type": "code",
   "execution_count": 1,
   "metadata": {},
   "outputs": [],
   "source": [
    "import numpy as np\n",
    "import pandas as pd\n",
    "import statistics\n",
    "import pycaret\n",
    "from pycaret.classification import *\n",
    "import matplotlib.pyplot as plt"
   ]
  },
  {
   "cell_type": "code",
   "execution_count": 2,
   "metadata": {},
   "outputs": [],
   "source": [
    "lifesnaps_dataset = pd.read_csv('Final_CSVs/lifesnaps_fuzzy8_13.csv')"
   ]
  },
  {
   "cell_type": "code",
   "execution_count": 3,
   "metadata": {},
   "outputs": [
    {
     "data": {
      "text/plain": [
       "0       0.0\n",
       "1       0.0\n",
       "2       0.0\n",
       "3       0.0\n",
       "4       0.0\n",
       "       ... \n",
       "5132    0.0\n",
       "5133    0.0\n",
       "5134    0.0\n",
       "5135    0.0\n",
       "5136    0.0\n",
       "Name: age, Length: 5137, dtype: float64"
      ]
     },
     "execution_count": 3,
     "metadata": {},
     "output_type": "execute_result"
    }
   ],
   "source": [
    "lifesnaps_dataset['age']"
   ]
  },
  {
   "cell_type": "code",
   "execution_count": 4,
   "metadata": {},
   "outputs": [
    {
     "data": {
      "text/plain": [
       "0       0.0\n",
       "1       0.0\n",
       "2       0.0\n",
       "3       0.0\n",
       "4       0.0\n",
       "       ... \n",
       "5132    1.0\n",
       "5133    1.0\n",
       "5134    1.0\n",
       "5135    1.0\n",
       "5136    1.0\n",
       "Name: gender, Length: 5137, dtype: float64"
      ]
     },
     "execution_count": 4,
     "metadata": {},
     "output_type": "execute_result"
    }
   ],
   "source": [
    "lifesnaps_dataset['gender']"
   ]
  },
  {
   "cell_type": "code",
   "execution_count": 5,
   "metadata": {},
   "outputs": [
    {
     "data": {
      "text/plain": [
       "0       18.0\n",
       "1       18.0\n",
       "2       18.0\n",
       "3       18.0\n",
       "4       18.0\n",
       "        ... \n",
       "5132    23.0\n",
       "5133    23.0\n",
       "5134    23.0\n",
       "5135    23.0\n",
       "5136    23.0\n",
       "Name: bmi, Length: 5137, dtype: float64"
      ]
     },
     "execution_count": 5,
     "metadata": {},
     "output_type": "execute_result"
    }
   ],
   "source": [
    "lifesnaps_dataset['bmi']"
   ]
  },
  {
   "cell_type": "code",
   "execution_count": 6,
   "metadata": {},
   "outputs": [],
   "source": [
    "# Drop 'dataset' to run pycaret tests based on \"Cluster\".\n",
    "\n",
    "lifesnaps_dataset = lifesnaps_dataset.drop('dataset', axis = 1)"
   ]
  },
  {
   "cell_type": "code",
   "execution_count": 7,
   "metadata": {},
   "outputs": [],
   "source": [
    "unique_participants = lifesnaps_dataset[\"Cluster\"].unique()\n",
    "lifesnaps_group = lifesnaps_dataset.groupby('Cluster')"
   ]
  },
  {
   "cell_type": "code",
   "execution_count": 8,
   "metadata": {},
   "outputs": [
    {
     "name": "stdout",
     "output_type": "stream",
     "text": [
      "Participant:  0\n",
      "554\n",
      "Participant:  1\n",
      "971\n",
      "Participant:  2\n",
      "403\n",
      "Participant:  3\n",
      "367\n",
      "Participant:  4\n",
      "1154\n",
      "Participant:  5\n",
      "379\n",
      "Participant:  6\n",
      "657\n",
      "Participant:  7\n",
      "652\n"
     ]
    }
   ],
   "source": [
    "for participant in unique_participants:\n",
    "    print(\"Participant: \",participant)\n",
    "    part_df = lifesnaps_group.get_group(participant)\n",
    "    print(len(part_df))"
   ]
  },
  {
   "cell_type": "code",
   "execution_count": 9,
   "metadata": {},
   "outputs": [
    {
     "name": "stdout",
     "output_type": "stream",
     "text": [
      "Participant:  0\n",
      "Index(['ENTERTAINMENT', 'GYM', 'HOME', 'HOME1OFFICE', 'OTHER', 'OUTDOORS',\n",
      "       'TRANSIT', 'WORK/SCHOOL', 'age', 'bmi', 'bpm', 'calories',\n",
      "       'daily1temperature1variation', 'day', 'day1cos', 'day1sin', 'distance',\n",
      "       'filteredDemographicVO2Max', 'full1sleep1breathing1rate', 'gender',\n",
      "       'id', 'lightly1active1minutes', 'max1goal', 'min1goal',\n",
      "       'mindfulness1session', 'minutesAfterWakeup', 'minutesAsleep',\n",
      "       'minutesAwake', 'minutesToFallAsleep', 'minutes1below1default1zone11',\n",
      "       'minutes1in1default1zone11', 'minutes1in1default1zone12',\n",
      "       'minutes1in1default1zone13', 'moderately1active1minutes', 'month',\n",
      "       'month1cos', 'month1sin', 'nightly1temperature', 'nremhr', 'resting1hr',\n",
      "       'rmssd', 'scl1avg', 'sedentary1minutes', 'sleep1deep1ratio',\n",
      "       'sleep1duration', 'sleep1efficiency', 'sleep1light1ratio',\n",
      "       'sleep1rem1ratio', 'sleep1wake1ratio', 'spo2', 'step1goal',\n",
      "       'step1goal1label', 'steps', 'very1active1minutes', 'week', 'week1cos',\n",
      "       'week1sin', 'weekday', 'weekday1cos', 'weekday1sin', 'year', 'stress',\n",
      "       'Cluster'],\n",
      "      dtype='object')\n",
      "Participant:  1\n",
      "Index(['ENTERTAINMENT', 'GYM', 'HOME', 'HOME1OFFICE', 'OTHER', 'OUTDOORS',\n",
      "       'TRANSIT', 'WORK/SCHOOL', 'age', 'bmi', 'bpm', 'calories',\n",
      "       'daily1temperature1variation', 'day', 'day1cos', 'day1sin', 'distance',\n",
      "       'filteredDemographicVO2Max', 'full1sleep1breathing1rate', 'gender',\n",
      "       'id', 'lightly1active1minutes', 'max1goal', 'min1goal',\n",
      "       'mindfulness1session', 'minutesAfterWakeup', 'minutesAsleep',\n",
      "       'minutesAwake', 'minutesToFallAsleep', 'minutes1below1default1zone11',\n",
      "       'minutes1in1default1zone11', 'minutes1in1default1zone12',\n",
      "       'minutes1in1default1zone13', 'moderately1active1minutes', 'month',\n",
      "       'month1cos', 'month1sin', 'nightly1temperature', 'nremhr', 'resting1hr',\n",
      "       'rmssd', 'scl1avg', 'sedentary1minutes', 'sleep1deep1ratio',\n",
      "       'sleep1duration', 'sleep1efficiency', 'sleep1light1ratio',\n",
      "       'sleep1rem1ratio', 'sleep1wake1ratio', 'spo2', 'step1goal',\n",
      "       'step1goal1label', 'steps', 'very1active1minutes', 'week', 'week1cos',\n",
      "       'week1sin', 'weekday', 'weekday1cos', 'weekday1sin', 'year', 'stress',\n",
      "       'Cluster'],\n",
      "      dtype='object')\n",
      "Participant:  2\n",
      "Index(['ENTERTAINMENT', 'GYM', 'HOME', 'HOME1OFFICE', 'OTHER', 'OUTDOORS',\n",
      "       'TRANSIT', 'WORK/SCHOOL', 'age', 'bmi', 'bpm', 'calories',\n",
      "       'daily1temperature1variation', 'day', 'day1cos', 'day1sin', 'distance',\n",
      "       'filteredDemographicVO2Max', 'full1sleep1breathing1rate', 'gender',\n",
      "       'id', 'lightly1active1minutes', 'max1goal', 'min1goal',\n",
      "       'mindfulness1session', 'minutesAfterWakeup', 'minutesAsleep',\n",
      "       'minutesAwake', 'minutesToFallAsleep', 'minutes1below1default1zone11',\n",
      "       'minutes1in1default1zone11', 'minutes1in1default1zone12',\n",
      "       'minutes1in1default1zone13', 'moderately1active1minutes', 'month',\n",
      "       'month1cos', 'month1sin', 'nightly1temperature', 'nremhr', 'resting1hr',\n",
      "       'rmssd', 'scl1avg', 'sedentary1minutes', 'sleep1deep1ratio',\n",
      "       'sleep1duration', 'sleep1efficiency', 'sleep1light1ratio',\n",
      "       'sleep1rem1ratio', 'sleep1wake1ratio', 'spo2', 'step1goal',\n",
      "       'step1goal1label', 'steps', 'very1active1minutes', 'week', 'week1cos',\n",
      "       'week1sin', 'weekday', 'weekday1cos', 'weekday1sin', 'year', 'stress',\n",
      "       'Cluster'],\n",
      "      dtype='object')\n",
      "Participant:  3\n",
      "Index(['ENTERTAINMENT', 'GYM', 'HOME', 'HOME1OFFICE', 'OTHER', 'OUTDOORS',\n",
      "       'TRANSIT', 'WORK/SCHOOL', 'age', 'bmi', 'bpm', 'calories',\n",
      "       'daily1temperature1variation', 'day', 'day1cos', 'day1sin', 'distance',\n",
      "       'filteredDemographicVO2Max', 'full1sleep1breathing1rate', 'gender',\n",
      "       'id', 'lightly1active1minutes', 'max1goal', 'min1goal',\n",
      "       'mindfulness1session', 'minutesAfterWakeup', 'minutesAsleep',\n",
      "       'minutesAwake', 'minutesToFallAsleep', 'minutes1below1default1zone11',\n",
      "       'minutes1in1default1zone11', 'minutes1in1default1zone12',\n",
      "       'minutes1in1default1zone13', 'moderately1active1minutes', 'month',\n",
      "       'month1cos', 'month1sin', 'nightly1temperature', 'nremhr', 'resting1hr',\n",
      "       'rmssd', 'scl1avg', 'sedentary1minutes', 'sleep1deep1ratio',\n",
      "       'sleep1duration', 'sleep1efficiency', 'sleep1light1ratio',\n",
      "       'sleep1rem1ratio', 'sleep1wake1ratio', 'spo2', 'step1goal',\n",
      "       'step1goal1label', 'steps', 'very1active1minutes', 'week', 'week1cos',\n",
      "       'week1sin', 'weekday', 'weekday1cos', 'weekday1sin', 'year', 'stress',\n",
      "       'Cluster'],\n",
      "      dtype='object')\n",
      "Participant:  4\n",
      "Index(['ENTERTAINMENT', 'GYM', 'HOME', 'HOME1OFFICE', 'OTHER', 'OUTDOORS',\n",
      "       'TRANSIT', 'WORK/SCHOOL', 'age', 'bmi', 'bpm', 'calories',\n",
      "       'daily1temperature1variation', 'day', 'day1cos', 'day1sin', 'distance',\n",
      "       'filteredDemographicVO2Max', 'full1sleep1breathing1rate', 'gender',\n",
      "       'id', 'lightly1active1minutes', 'max1goal', 'min1goal',\n",
      "       'mindfulness1session', 'minutesAfterWakeup', 'minutesAsleep',\n",
      "       'minutesAwake', 'minutesToFallAsleep', 'minutes1below1default1zone11',\n",
      "       'minutes1in1default1zone11', 'minutes1in1default1zone12',\n",
      "       'minutes1in1default1zone13', 'moderately1active1minutes', 'month',\n",
      "       'month1cos', 'month1sin', 'nightly1temperature', 'nremhr', 'resting1hr',\n",
      "       'rmssd', 'scl1avg', 'sedentary1minutes', 'sleep1deep1ratio',\n",
      "       'sleep1duration', 'sleep1efficiency', 'sleep1light1ratio',\n",
      "       'sleep1rem1ratio', 'sleep1wake1ratio', 'spo2', 'step1goal',\n",
      "       'step1goal1label', 'steps', 'very1active1minutes', 'week', 'week1cos',\n",
      "       'week1sin', 'weekday', 'weekday1cos', 'weekday1sin', 'year', 'stress',\n",
      "       'Cluster'],\n",
      "      dtype='object')\n",
      "Participant:  5\n",
      "Index(['ENTERTAINMENT', 'GYM', 'HOME', 'HOME1OFFICE', 'OTHER', 'OUTDOORS',\n",
      "       'TRANSIT', 'WORK/SCHOOL', 'age', 'bmi', 'bpm', 'calories',\n",
      "       'daily1temperature1variation', 'day', 'day1cos', 'day1sin', 'distance',\n",
      "       'filteredDemographicVO2Max', 'full1sleep1breathing1rate', 'gender',\n",
      "       'id', 'lightly1active1minutes', 'max1goal', 'min1goal',\n",
      "       'mindfulness1session', 'minutesAfterWakeup', 'minutesAsleep',\n",
      "       'minutesAwake', 'minutesToFallAsleep', 'minutes1below1default1zone11',\n",
      "       'minutes1in1default1zone11', 'minutes1in1default1zone12',\n",
      "       'minutes1in1default1zone13', 'moderately1active1minutes', 'month',\n",
      "       'month1cos', 'month1sin', 'nightly1temperature', 'nremhr', 'resting1hr',\n",
      "       'rmssd', 'scl1avg', 'sedentary1minutes', 'sleep1deep1ratio',\n",
      "       'sleep1duration', 'sleep1efficiency', 'sleep1light1ratio',\n",
      "       'sleep1rem1ratio', 'sleep1wake1ratio', 'spo2', 'step1goal',\n",
      "       'step1goal1label', 'steps', 'very1active1minutes', 'week', 'week1cos',\n",
      "       'week1sin', 'weekday', 'weekday1cos', 'weekday1sin', 'year', 'stress',\n",
      "       'Cluster'],\n",
      "      dtype='object')\n",
      "Participant:  6\n",
      "Index(['ENTERTAINMENT', 'GYM', 'HOME', 'HOME1OFFICE', 'OTHER', 'OUTDOORS',\n",
      "       'TRANSIT', 'WORK/SCHOOL', 'age', 'bmi', 'bpm', 'calories',\n",
      "       'daily1temperature1variation', 'day', 'day1cos', 'day1sin', 'distance',\n",
      "       'filteredDemographicVO2Max', 'full1sleep1breathing1rate', 'gender',\n",
      "       'id', 'lightly1active1minutes', 'max1goal', 'min1goal',\n",
      "       'mindfulness1session', 'minutesAfterWakeup', 'minutesAsleep',\n",
      "       'minutesAwake', 'minutesToFallAsleep', 'minutes1below1default1zone11',\n",
      "       'minutes1in1default1zone11', 'minutes1in1default1zone12',\n",
      "       'minutes1in1default1zone13', 'moderately1active1minutes', 'month',\n",
      "       'month1cos', 'month1sin', 'nightly1temperature', 'nremhr', 'resting1hr',\n",
      "       'rmssd', 'scl1avg', 'sedentary1minutes', 'sleep1deep1ratio',\n",
      "       'sleep1duration', 'sleep1efficiency', 'sleep1light1ratio',\n",
      "       'sleep1rem1ratio', 'sleep1wake1ratio', 'spo2', 'step1goal',\n",
      "       'step1goal1label', 'steps', 'very1active1minutes', 'week', 'week1cos',\n",
      "       'week1sin', 'weekday', 'weekday1cos', 'weekday1sin', 'year', 'stress',\n",
      "       'Cluster'],\n",
      "      dtype='object')\n",
      "Participant:  7\n",
      "Index(['ENTERTAINMENT', 'GYM', 'HOME', 'HOME1OFFICE', 'OTHER', 'OUTDOORS',\n",
      "       'TRANSIT', 'WORK/SCHOOL', 'age', 'bmi', 'bpm', 'calories',\n",
      "       'daily1temperature1variation', 'day', 'day1cos', 'day1sin', 'distance',\n",
      "       'filteredDemographicVO2Max', 'full1sleep1breathing1rate', 'gender',\n",
      "       'id', 'lightly1active1minutes', 'max1goal', 'min1goal',\n",
      "       'mindfulness1session', 'minutesAfterWakeup', 'minutesAsleep',\n",
      "       'minutesAwake', 'minutesToFallAsleep', 'minutes1below1default1zone11',\n",
      "       'minutes1in1default1zone11', 'minutes1in1default1zone12',\n",
      "       'minutes1in1default1zone13', 'moderately1active1minutes', 'month',\n",
      "       'month1cos', 'month1sin', 'nightly1temperature', 'nremhr', 'resting1hr',\n",
      "       'rmssd', 'scl1avg', 'sedentary1minutes', 'sleep1deep1ratio',\n",
      "       'sleep1duration', 'sleep1efficiency', 'sleep1light1ratio',\n",
      "       'sleep1rem1ratio', 'sleep1wake1ratio', 'spo2', 'step1goal',\n",
      "       'step1goal1label', 'steps', 'very1active1minutes', 'week', 'week1cos',\n",
      "       'week1sin', 'weekday', 'weekday1cos', 'weekday1sin', 'year', 'stress',\n",
      "       'Cluster'],\n",
      "      dtype='object')\n"
     ]
    }
   ],
   "source": [
    "for participant in unique_participants:\n",
    "    print(\"Participant: \",participant)\n",
    "    part_df = lifesnaps_group.get_group(participant)\n",
    "    print(part_df.columns)"
   ]
  },
  {
   "cell_type": "code",
   "execution_count": 10,
   "metadata": {},
   "outputs": [
    {
     "name": "stdout",
     "output_type": "stream",
     "text": [
      "Participant:  0\n",
      "0       621e2e8e67b776a24055b564\n",
      "161     621e2ed667b776a24085d8d1\n",
      "343     621e2f6167b776a240e082a9\n",
      "499     621e2f9167b776a240011ccb\n",
      "500     621e2f9167b776a240011ccb\n",
      "                  ...           \n",
      "4855    621e36dd67b776a240ce9a45\n",
      "4856    621e36dd67b776a240ce9a45\n",
      "4857    621e36dd67b776a240ce9a45\n",
      "4953    621e36f967b776a240e5e7c9\n",
      "4954    621e36f967b776a240e5e7c9\n",
      "Name: id, Length: 554, dtype: object\n"
     ]
    }
   ],
   "source": [
    "for participant in unique_participants:\n",
    "    print(\"Participant: \",participant)\n",
    "    part_df = lifesnaps_group.get_group(participant)\n",
    "    print(part_df.id)\n",
    "    break"
   ]
  },
  {
   "cell_type": "code",
   "execution_count": 11,
   "metadata": {},
   "outputs": [
    {
     "name": "stdout",
     "output_type": "stream",
     "text": [
      "[0 1 2 3 4 5 6 7]\n"
     ]
    }
   ],
   "source": [
    "print(unique_participants)"
   ]
  },
  {
   "cell_type": "code",
   "execution_count": 12,
   "metadata": {},
   "outputs": [],
   "source": [
    "def train_test_split_per_user(data, train_size=0.7):\n",
    "    users = list(set(data.id))\n",
    "    users = sorted(users, reverse=True)  # fix randomness\n",
    "    total_users = len(users)\n",
    "    slice = int(train_size * total_users)\n",
    "    users_train = users[:slice]\n",
    "    users_test = users[slice:]\n",
    "    return data[data.id.isin(users_train)], data[data.id.isin(users_test)]"
   ]
  },
  {
   "cell_type": "code",
   "execution_count": 13,
   "metadata": {},
   "outputs": [
    {
     "name": "stdout",
     "output_type": "stream",
     "text": [
      "Group:  0\n"
     ]
    },
    {
     "name": "stderr",
     "output_type": "stream",
     "text": [
      "                                                           \r"
     ]
    },
    {
     "name": "stdout",
     "output_type": "stream",
     "text": [
      "                                    Model  Accuracy     AUC  Recall   Prec.  \\\n",
      "gbc          Gradient Boosting Classifier    0.9463  0.9622  0.8056  0.5079   \n",
      "lightgbm  Light Gradient Boosting Machine    0.9383  0.9622  0.6898  0.4708   \n",
      "knn                K Neighbors Classifier    0.9302  0.8926  0.7685  0.4444   \n",
      "rf               Random Forest Classifier    0.9329  0.9516  0.5324  0.3963   \n",
      "et                 Extra Trees Classifier    0.9383  0.9588  0.4954  0.4730   \n",
      "ada                  Ada Boost Classifier    0.9302  0.9303  0.4259  0.3481   \n",
      "dt               Decision Tree Classifier    0.9409  0.6648  0.3611  0.3205   \n",
      "ridge                    Ridge Classifier    0.8873  0.0000  0.4583  0.2417   \n",
      "nb                            Naive Bayes    0.7451  0.7512  0.6944  0.1688   \n",
      "lda          Linear Discriminant Analysis    0.8283  0.7006  0.4537  0.1410   \n",
      "lr                    Logistic Regression    0.7611  0.4863  0.3796  0.1099   \n",
      "svm                   SVM - Linear Kernel    0.0537  0.0000  1.0000  0.0537   \n",
      "qda       Quadratic Discriminant Analysis    0.9463  0.5000  0.0000  0.0000   \n",
      "dummy                    Dummy Classifier    0.9463  0.5000  0.0000  0.0000   \n",
      "\n",
      "              F1   Kappa     MCC  TT (Sec)  \n",
      "gbc       0.6040  0.5772  0.6044    0.3467  \n",
      "lightgbm  0.5512  0.5205  0.5354    0.1900  \n",
      "knn       0.5317  0.4986  0.5366    1.1967  \n",
      "rf        0.4444  0.4096  0.4195    0.1533  \n",
      "et        0.4415  0.4109  0.4324    0.1767  \n",
      "ada       0.3796  0.3431  0.3467    0.1200  \n",
      "dt        0.3238  0.2950  0.3035    0.0467  \n",
      "ridge     0.2975  0.2473  0.2711    0.0433  \n",
      "nb        0.2548  0.1859  0.2450    1.3167  \n",
      "lda       0.2056  0.1398  0.1777    0.0467  \n",
      "lr        0.1656  0.0887  0.1005    1.4233  \n",
      "svm       0.1011  0.0000  0.0000    0.0633  \n",
      "qda       0.0000  0.0000  0.0000    0.0567  \n",
      "dummy     0.0000  0.0000  0.0000    0.0767  \n",
      "GradientBoostingClassifier(ccp_alpha=0.0, criterion='friedman_mse', init=None,\n",
      "                           learning_rate=0.1, loss='log_loss', max_depth=3,\n",
      "                           max_features=None, max_leaf_nodes=None,\n",
      "                           min_impurity_decrease=0.0, min_samples_leaf=1,\n",
      "                           min_samples_split=2, min_weight_fraction_leaf=0.0,\n",
      "                           n_estimators=100, n_iter_no_change=None,\n",
      "                           random_state=607, subsample=1.0, tol=0.0001,\n",
      "                           validation_fraction=0.1, verbose=0,\n",
      "                           warm_start=False)\n",
      "                          Model  Accuracy     AUC  Recall   Prec.      F1  \\\n",
      "0  Gradient Boosting Classifier    0.8011  0.7994  0.3571  0.1562  0.2174   \n",
      "\n",
      "   Kappa     MCC  \n",
      "0  0.123  0.1369  \n",
      "Predictions saved to: LifeSnaps_Fuzzy_Splitting_Output_Files\\predictions_0.csv\n",
      "Group:  1\n"
     ]
    },
    {
     "name": "stderr",
     "output_type": "stream",
     "text": [
      "                                                           \r"
     ]
    },
    {
     "name": "stdout",
     "output_type": "stream",
     "text": [
      "                                    Model  Accuracy     AUC  Recall   Prec.  \\\n",
      "gbc          Gradient Boosting Classifier    0.8607  0.8782  0.4666  0.5019   \n",
      "dt               Decision Tree Classifier    0.8451  0.7022  0.4992  0.4322   \n",
      "ada                  Ada Boost Classifier    0.8529  0.8063  0.3615  0.4061   \n",
      "lightgbm  Light Gradient Boosting Machine    0.8555  0.8784  0.3157  0.4013   \n",
      "rf               Random Forest Classifier    0.8385  0.8678  0.2551  0.3735   \n",
      "knn                K Neighbors Classifier    0.7161  0.6954  0.5362  0.1914   \n",
      "et                 Extra Trees Classifier    0.8477  0.8570  0.2451  0.3968   \n",
      "nb                            Naive Bayes    0.6927  0.5857  0.4740  0.1762   \n",
      "ridge                    Ridge Classifier    0.7695  0.0000  0.4645  0.2230   \n",
      "lda          Linear Discriminant Analysis    0.7565  0.5850  0.3811  0.1650   \n",
      "lr                    Logistic Regression    0.6732  0.4452  0.3664  0.1385   \n",
      "qda       Quadratic Discriminant Analysis    0.8841  0.4163  0.0208  0.3333   \n",
      "svm                   SVM - Linear Kernel    0.5677  0.0000  0.3333  0.0091   \n",
      "dummy                    Dummy Classifier    0.8828  0.5000  0.0000  0.0000   \n",
      "\n",
      "              F1   Kappa     MCC  TT (Sec)  \n",
      "gbc       0.4694  0.3903  0.3968    0.6700  \n",
      "dt        0.4345  0.3461  0.3612    0.1067  \n",
      "ada       0.3728  0.2846  0.2897    0.2867  \n",
      "lightgbm  0.3423  0.2620  0.2689    0.3833  \n",
      "rf        0.2601  0.1869  0.2060    0.3867  \n",
      "knn       0.2517  0.1272  0.1636    0.0800  \n",
      "et        0.2514  0.1947  0.2177    0.1433  \n",
      "nb        0.2417  0.1142  0.1317    0.0700  \n",
      "ridge     0.2239  0.1336  0.1770    0.0933  \n",
      "lda       0.1740  0.0757  0.1068    0.0467  \n",
      "lr        0.1725  0.0360  0.0484    0.0633  \n",
      "qda       0.0392  0.0370  0.0808    0.0933  \n",
      "svm       0.0177  0.0000  0.0000    0.1033  \n",
      "dummy     0.0000  0.0000  0.0000    0.0500  \n",
      "GradientBoostingClassifier(ccp_alpha=0.0, criterion='friedman_mse', init=None,\n",
      "                           learning_rate=0.1, loss='log_loss', max_depth=3,\n",
      "                           max_features=None, max_leaf_nodes=None,\n",
      "                           min_impurity_decrease=0.0, min_samples_leaf=1,\n",
      "                           min_samples_split=2, min_weight_fraction_leaf=0.0,\n",
      "                           n_estimators=100, n_iter_no_change=None,\n",
      "                           random_state=3869, subsample=1.0, tol=0.0001,\n",
      "                           validation_fraction=0.1, verbose=0,\n",
      "                           warm_start=False)\n",
      "                          Model  Accuracy     AUC  Recall  Prec.      F1  \\\n",
      "0  Gradient Boosting Classifier    0.8916  0.9449  0.4815  0.619  0.5417   \n",
      "\n",
      "    Kappa     MCC  \n",
      "0  0.4813  0.4862  \n",
      "Predictions saved to: LifeSnaps_Fuzzy_Splitting_Output_Files\\predictions_1.csv\n",
      "Group:  2\n"
     ]
    },
    {
     "name": "stderr",
     "output_type": "stream",
     "text": [
      "                                                           \r"
     ]
    },
    {
     "name": "stdout",
     "output_type": "stream",
     "text": [
      "                                    Model  Accuracy     AUC  Recall   Prec.  \\\n",
      "et                 Extra Trees Classifier    0.6049  0.3137  0.1111  0.1667   \n",
      "lightgbm  Light Gradient Boosting Machine    0.6049  0.3072  0.1111  0.1667   \n",
      "ada                  Ada Boost Classifier    0.6049  0.2571  0.1111  0.1111   \n",
      "gbc          Gradient Boosting Classifier    0.5988  0.3007  0.1111  0.0833   \n",
      "lr                    Logistic Regression    0.5494  0.3028  0.2222  0.0556   \n",
      "lda          Linear Discriminant Analysis    0.5741  0.1983  0.1111  0.0417   \n",
      "knn                K Neighbors Classifier    0.5432  0.2288  0.1111  0.0278   \n",
      "nb                            Naive Bayes    0.5556  0.2200  0.0000  0.0000   \n",
      "dt               Decision Tree Classifier    0.5679  0.1569  0.0000  0.0000   \n",
      "svm                   SVM - Linear Kernel    0.3148  0.0000  0.0000  0.0000   \n",
      "ridge                    Ridge Classifier    0.5802  0.0000  0.0000  0.0000   \n",
      "rf               Random Forest Classifier    0.5926  0.3094  0.0000  0.0000   \n",
      "qda       Quadratic Discriminant Analysis    0.6481  0.1667  0.0000  0.0000   \n",
      "dummy                    Dummy Classifier    0.6481  0.1667  0.0000  0.0000   \n",
      "\n",
      "              F1   Kappa     MCC  TT (Sec)  \n",
      "et        0.1333  0.1240  0.1268    0.1500  \n",
      "lightgbm  0.1333  0.1240  0.1268    0.1800  \n",
      "ada       0.1111  0.0980  0.0980    0.1633  \n",
      "gbc       0.0952  0.0791  0.0800    0.2367  \n",
      "lr        0.0889  0.0650  0.0864    0.1300  \n",
      "lda       0.0606  0.0366  0.0421    0.0533  \n",
      "knn       0.0444  0.0163  0.0216    0.0867  \n",
      "nb        0.0000 -0.0249 -0.0258    0.0800  \n",
      "dt        0.0000 -0.0196 -0.0196    0.0767  \n",
      "svm       0.0000  0.0000  0.0000    0.0667  \n",
      "ridge     0.0000 -0.0196 -0.0196    0.0900  \n",
      "rf        0.0000 -0.0095 -0.0111    0.1800  \n",
      "qda       0.0000     NaN  0.0000    0.0733  \n",
      "dummy     0.0000     NaN  0.0000    0.0867  \n",
      "ExtraTreesClassifier(bootstrap=False, ccp_alpha=0.0, class_weight=None,\n",
      "                     criterion='gini', max_depth=None, max_features='sqrt',\n",
      "                     max_leaf_nodes=None, max_samples=None,\n",
      "                     min_impurity_decrease=0.0, min_samples_leaf=1,\n",
      "                     min_samples_split=2, min_weight_fraction_leaf=0.0,\n",
      "                     n_estimators=100, n_jobs=-1, oob_score=False,\n",
      "                     random_state=1001, verbose=0, warm_start=False)\n",
      "                    Model  Accuracy     AUC  Recall   Prec.      F1   Kappa  \\\n",
      "0  Extra Trees Classifier    0.7137  0.6747  0.0784  0.1538  0.1039 -0.0455   \n",
      "\n",
      "      MCC  \n",
      "0 -0.0492  \n",
      "Predictions saved to: LifeSnaps_Fuzzy_Splitting_Output_Files\\predictions_2.csv\n",
      "Group:  3\n"
     ]
    },
    {
     "name": "stderr",
     "output_type": "stream",
     "text": [
      "                                                           \r"
     ]
    },
    {
     "name": "stdout",
     "output_type": "stream",
     "text": [
      "                                    Model  Accuracy     AUC  Recall   Prec.  \\\n",
      "gbc          Gradient Boosting Classifier    0.9197  0.9258  0.3512  0.3056   \n",
      "et                 Extra Trees Classifier    0.9312  0.9487  0.3036  0.3889   \n",
      "ada                  Ada Boost Classifier    0.9311  0.8682  0.2619  0.3000   \n",
      "nb                            Naive Bayes    0.7906  0.8611  0.6071  0.2326   \n",
      "rf               Random Forest Classifier    0.9274  0.9531  0.1369  0.4444   \n",
      "lightgbm  Light Gradient Boosting Machine    0.9235  0.9375  0.1845  0.2540   \n",
      "dt               Decision Tree Classifier    0.9197  0.5539  0.1369  0.2778   \n",
      "knn                K Neighbors Classifier    0.6494  0.6099  0.5119  0.1293   \n",
      "lr                    Logistic Regression    0.4393  0.5361  0.7024  0.0922   \n",
      "lda          Linear Discriminant Analysis    0.5426  0.3133  0.1310  0.0347   \n",
      "ridge                    Ridge Classifier    0.5542  0.0000  0.2560  0.0333   \n",
      "svm                   SVM - Linear Kernel    0.6553  0.0000  0.3333  0.0268   \n",
      "qda       Quadratic Discriminant Analysis    0.9350  0.5000  0.0000  0.0000   \n",
      "dummy                    Dummy Classifier    0.9350  0.5000  0.0000  0.0000   \n",
      "\n",
      "              F1   Kappa     MCC  TT (Sec)  \n",
      "gbc       0.3205  0.2777  0.2820    0.5933  \n",
      "et        0.3185  0.2838  0.2976    0.2033  \n",
      "ada       0.2778  0.2449  0.2465    0.1500  \n",
      "nb        0.2529  0.1936  0.2485    0.0867  \n",
      "rf        0.2088  0.1781  0.2159    0.1767  \n",
      "lightgbm  0.2035  0.1673  0.1734    0.1800  \n",
      "dt        0.1810  0.1412  0.1538    0.0733  \n",
      "knn       0.1492  0.0660  0.0935    0.0500  \n",
      "lr        0.1350  0.0379  0.0527    0.1167  \n",
      "lda       0.0548 -0.0566 -0.1178    0.1133  \n",
      "ridge     0.0531 -0.0561 -0.0826    0.0600  \n",
      "svm       0.0496  0.0000  0.0000    0.1133  \n",
      "qda       0.0000  0.0000  0.0000    0.0667  \n",
      "dummy     0.0000  0.0000  0.0000    0.0900  \n",
      "GradientBoostingClassifier(ccp_alpha=0.0, criterion='friedman_mse', init=None,\n",
      "                           learning_rate=0.1, loss='log_loss', max_depth=3,\n",
      "                           max_features=None, max_leaf_nodes=None,\n",
      "                           min_impurity_decrease=0.0, min_samples_leaf=1,\n",
      "                           min_samples_split=2, min_weight_fraction_leaf=0.0,\n",
      "                           n_estimators=100, n_iter_no_change=None,\n",
      "                           random_state=8870, subsample=1.0, tol=0.0001,\n",
      "                           validation_fraction=0.1, verbose=0,\n",
      "                           warm_start=False)\n",
      "                          Model  Accuracy     AUC  Recall  Prec.    F1  \\\n",
      "0  Gradient Boosting Classifier    0.8857  0.9217  0.1818    0.4  0.25   \n",
      "\n",
      "    Kappa     MCC  \n",
      "0  0.1975  0.2156  \n",
      "Predictions saved to: LifeSnaps_Fuzzy_Splitting_Output_Files\\predictions_3.csv\n",
      "Group:  4\n"
     ]
    },
    {
     "name": "stderr",
     "output_type": "stream",
     "text": [
      "                                                           \r"
     ]
    },
    {
     "name": "stdout",
     "output_type": "stream",
     "text": [
      "                                    Model  Accuracy     AUC  Recall   Prec.  \\\n",
      "dt               Decision Tree Classifier    0.8876  0.7159  0.4957  0.4580   \n",
      "ada                  Ada Boost Classifier    0.8964  0.8662  0.4800  0.4861   \n",
      "gbc          Gradient Boosting Classifier    0.8839  0.8963  0.4654  0.4670   \n",
      "nb                            Naive Bayes    0.7169  0.7722  0.7789  0.2985   \n",
      "et                 Extra Trees Classifier    0.8961  0.9264  0.4095  0.3382   \n",
      "rf               Random Forest Classifier    0.8926  0.9305  0.3324  0.3154   \n",
      "lda          Linear Discriminant Analysis    0.8148  0.6695  0.4412  0.2706   \n",
      "ridge                    Ridge Classifier    0.8094  0.0000  0.3812  0.2450   \n",
      "knn                K Neighbors Classifier    0.5946  0.6858  0.6300  0.2146   \n",
      "lightgbm  Light Gradient Boosting Machine    0.8788  0.9217  0.2908  0.2728   \n",
      "svm                   SVM - Linear Kernel    0.6466  0.0000  0.3333  0.0419   \n",
      "lr                    Logistic Regression    0.7018  0.5829  0.2000  0.0078   \n",
      "qda       Quadratic Discriminant Analysis    0.8961  0.5000  0.0000  0.0000   \n",
      "dummy                    Dummy Classifier    0.8961  0.5000  0.0000  0.0000   \n",
      "\n",
      "              F1   Kappa     MCC  TT (Sec)  \n",
      "dt        0.4717  0.4068  0.4094    0.0600  \n",
      "ada       0.4578  0.4013  0.4141    0.4233  \n",
      "gbc       0.4378  0.3709  0.3851    0.9933  \n",
      "nb        0.4035  0.3225  0.3616    0.0467  \n",
      "et        0.3693  0.3127  0.3154    0.3767  \n",
      "rf        0.3235  0.2651  0.2654    0.3100  \n",
      "lda       0.3209  0.2364  0.2455    0.1100  \n",
      "ridge     0.2838  0.1951  0.2009    0.0533  \n",
      "knn       0.2795  0.1729  0.1887    0.0733  \n",
      "lightgbm  0.2775  0.2100  0.2114    0.4867  \n",
      "svm       0.0744  0.0000  0.0000    0.0567  \n",
      "lr        0.0149 -0.0003 -0.0012    0.0833  \n",
      "qda       0.0000  0.0000  0.0000    0.1233  \n",
      "dummy     0.0000  0.0000  0.0000    0.1033  \n",
      "DecisionTreeClassifier(ccp_alpha=0.0, class_weight=None, criterion='gini',\n",
      "                       max_depth=None, max_features=None, max_leaf_nodes=None,\n",
      "                       min_impurity_decrease=0.0, min_samples_leaf=1,\n",
      "                       min_samples_split=2, min_weight_fraction_leaf=0.0,\n",
      "                       random_state=7415, splitter='best')\n",
      "                      Model  Accuracy     AUC  Recall   Prec.      F1  Kappa  \\\n",
      "0  Decision Tree Classifier    0.7736  0.7302  0.6604  0.4348  0.5243  0.384   \n",
      "\n",
      "      MCC  \n",
      "0  0.3984  \n",
      "Predictions saved to: LifeSnaps_Fuzzy_Splitting_Output_Files\\predictions_4.csv\n",
      "Group:  5\n"
     ]
    },
    {
     "name": "stderr",
     "output_type": "stream",
     "text": [
      "                                                           \r"
     ]
    },
    {
     "name": "stdout",
     "output_type": "stream",
     "text": [
      "                                    Model  Accuracy     AUC  Recall   Prec.  \\\n",
      "lightgbm  Light Gradient Boosting Machine    0.7155  0.8291  0.6745  0.4334   \n",
      "ada                  Ada Boost Classifier    0.7701  0.6613  0.5382  0.5173   \n",
      "dt               Decision Tree Classifier    0.7356  0.6915  0.5676  0.4710   \n",
      "gbc          Gradient Boosting Classifier    0.7184  0.7940  0.6245  0.4817   \n",
      "knn                K Neighbors Classifier    0.6839  0.7342  0.6735  0.4044   \n",
      "et                 Extra Trees Classifier    0.6868  0.8275  0.6108  0.4619   \n",
      "nb                            Naive Bayes    0.6379  0.7018  0.5696  0.3749   \n",
      "rf               Random Forest Classifier    0.6782  0.8356  0.5618  0.5143   \n",
      "ridge                    Ridge Classifier    0.4828  0.0000  0.6696  0.3324   \n",
      "lr                    Logistic Regression    0.5575  0.5721  0.5225  0.2993   \n",
      "lda          Linear Discriminant Analysis    0.4971  0.7184  0.6304  0.3811   \n",
      "svm                   SVM - Linear Kernel    0.7845  0.0000  0.3333  0.1954   \n",
      "qda       Quadratic Discriminant Analysis    0.7299  0.6042  0.0196  0.3333   \n",
      "dummy                    Dummy Classifier    0.7270  0.5000  0.0000  0.0000   \n",
      "\n",
      "              F1   Kappa     MCC  TT (Sec)  \n",
      "lightgbm  0.4869  0.2796  0.3162    0.2133  \n",
      "ada       0.4860  0.3048  0.3251    0.2867  \n",
      "dt        0.4763  0.2931  0.3182    0.0700  \n",
      "gbc       0.4656  0.2989  0.3489    0.5200  \n",
      "knn       0.4565  0.2381  0.2790    0.0600  \n",
      "et        0.4281  0.2601  0.3189    0.2233  \n",
      "nb        0.3966  0.1781  0.2051    0.0500  \n",
      "rf        0.3840  0.2455  0.3269    0.2333  \n",
      "ridge     0.3273  0.0995  0.1565    0.0567  \n",
      "lr        0.3224  0.0544  0.0845    0.0800  \n",
      "lda       0.3104  0.1189  0.1891    0.0633  \n",
      "svm       0.2464  0.0000  0.0000    0.0567  \n",
      "qda       0.0370  0.0321  0.0750    0.0833  \n",
      "dummy     0.0000  0.0000  0.0000    0.1067  \n",
      "LGBMClassifier(boosting_type='gbdt', class_weight=None, colsample_bytree=1.0,\n",
      "               importance_type='split', learning_rate=0.1, max_depth=-1,\n",
      "               min_child_samples=20, min_child_weight=0.001, min_split_gain=0.0,\n",
      "               n_estimators=100, n_jobs=-1, num_leaves=31, objective=None,\n",
      "               random_state=3247, reg_alpha=0.0, reg_lambda=0.0, subsample=1.0,\n",
      "               subsample_for_bin=200000, subsample_freq=0)\n",
      "                             Model  Accuracy     AUC  Recall  Prec.   F1  \\\n",
      "0  Light Gradient Boosting Machine    0.5161  0.5351     0.0    0.0  0.0   \n",
      "\n",
      "    Kappa     MCC  \n",
      "0 -0.1832 -0.2601  \n",
      "Predictions saved to: LifeSnaps_Fuzzy_Splitting_Output_Files\\predictions_5.csv\n",
      "Group:  6\n"
     ]
    },
    {
     "name": "stderr",
     "output_type": "stream",
     "text": [
      "                                                           \r"
     ]
    },
    {
     "name": "stdout",
     "output_type": "stream",
     "text": [
      "                                    Model  Accuracy     AUC  Recall   Prec.  \\\n",
      "rf               Random Forest Classifier    0.8376  0.8932  0.5281  0.5275   \n",
      "gbc          Gradient Boosting Classifier    0.8087  0.8560  0.5279  0.4852   \n",
      "lightgbm  Light Gradient Boosting Machine    0.8123  0.8726  0.4743  0.5093   \n",
      "dt               Decision Tree Classifier    0.8214  0.6693  0.4463  0.4594   \n",
      "nb                            Naive Bayes    0.7042  0.7691  0.5686  0.3180   \n",
      "ada                  Ada Boost Classifier    0.7997  0.8435  0.4354  0.4968   \n",
      "et                 Extra Trees Classifier    0.8250  0.8854  0.3773  0.5668   \n",
      "lr                    Logistic Regression    0.6483  0.5643  0.5437  0.2503   \n",
      "lda          Linear Discriminant Analysis    0.6932  0.6616  0.4882  0.2832   \n",
      "ridge                    Ridge Classifier    0.6896  0.0000  0.4819  0.2840   \n",
      "knn                K Neighbors Classifier    0.6194  0.6249  0.5087  0.2475   \n",
      "svm                   SVM - Linear Kernel    0.6953  0.0000  0.3333  0.1063   \n",
      "qda       Quadratic Discriminant Analysis    0.8035  0.5206  0.0119  0.0370   \n",
      "dummy                    Dummy Classifier    0.8161  0.5000  0.0000  0.0000   \n",
      "\n",
      "              F1   Kappa     MCC  TT (Sec)  \n",
      "rf        0.5041  0.4051  0.4177    0.1867  \n",
      "gbc       0.4709  0.3560  0.3751    0.5233  \n",
      "lightgbm  0.4279  0.3263  0.3598    0.2967  \n",
      "dt        0.4203  0.3157  0.3305    0.0533  \n",
      "nb        0.3923  0.2216  0.2418    0.0400  \n",
      "ada       0.3808  0.2871  0.3289    0.1833  \n",
      "et        0.3800  0.2888  0.3261    0.1333  \n",
      "lr        0.3388  0.1356  0.1559    0.0500  \n",
      "lda       0.3328  0.1562  0.1774    0.0467  \n",
      "ridge     0.3291  0.1534  0.1737    0.0433  \n",
      "knn       0.3166  0.1088  0.1170    0.0433  \n",
      "svm       0.1612  0.0000  0.0000    0.0467  \n",
      "qda       0.0180 -0.0070 -0.0085    0.0533  \n",
      "dummy     0.0000  0.0000  0.0000    0.0500  \n",
      "RandomForestClassifier(bootstrap=True, ccp_alpha=0.0, class_weight=None,\n",
      "                       criterion='gini', max_depth=None, max_features='sqrt',\n",
      "                       max_leaf_nodes=None, max_samples=None,\n",
      "                       min_impurity_decrease=0.0, min_samples_leaf=1,\n",
      "                       min_samples_split=2, min_weight_fraction_leaf=0.0,\n",
      "                       n_estimators=100, n_jobs=-1, oob_score=False,\n",
      "                       random_state=5809, verbose=0, warm_start=False)\n",
      "                      Model  Accuracy     AUC  Recall   Prec.     F1   Kappa  \\\n",
      "0  Random Forest Classifier    0.6214  0.7181  0.5714  0.2857  0.381  0.1498   \n",
      "\n",
      "      MCC  \n",
      "0  0.1685  \n",
      "Predictions saved to: LifeSnaps_Fuzzy_Splitting_Output_Files\\predictions_6.csv\n",
      "Group:  7\n"
     ]
    },
    {
     "name": "stderr",
     "output_type": "stream",
     "text": [
      "                                                           "
     ]
    },
    {
     "name": "stdout",
     "output_type": "stream",
     "text": [
      "                                    Model  Accuracy     AUC  Recall   Prec.  \\\n",
      "dt               Decision Tree Classifier    0.7766  0.6132  0.3732  0.3149   \n",
      "gbc          Gradient Boosting Classifier    0.7698  0.7853  0.3496  0.3068   \n",
      "nb                            Naive Bayes    0.6410  0.5723  0.4184  0.2200   \n",
      "lr                    Logistic Regression    0.5265  0.5218  0.6176  0.1824   \n",
      "lightgbm  Light Gradient Boosting Machine    0.7743  0.8091  0.2563  0.2932   \n",
      "ada                  Ada Boost Classifier    0.7743  0.7739  0.2851  0.2721   \n",
      "svm                   SVM - Linear Kernel    0.3944  0.0000  0.6667  0.1129   \n",
      "rf               Random Forest Classifier    0.7698  0.7860  0.2056  0.1709   \n",
      "et                 Extra Trees Classifier    0.7856  0.7777  0.1784  0.1712   \n",
      "knn                K Neighbors Classifier    0.6208  0.5223  0.2414  0.1174   \n",
      "ridge                    Ridge Classifier    0.6795  0.0000  0.1823  0.1366   \n",
      "lda          Linear Discriminant Analysis    0.6840  0.4719  0.1678  0.1316   \n",
      "qda       Quadratic Discriminant Analysis    0.8353  0.5000  0.0000  0.0000   \n",
      "dummy                    Dummy Classifier    0.8353  0.5000  0.0000  0.0000   \n",
      "\n",
      "              F1   Kappa     MCC  TT (Sec)  \n",
      "dt        0.3352  0.2016  0.2065    0.0467  \n",
      "gbc       0.3148  0.1839  0.1887    0.4533  \n",
      "nb        0.2821  0.0844  0.0880    0.0433  \n",
      "lr        0.2687  0.0634  0.0836    0.0467  \n",
      "lightgbm  0.2548  0.1335  0.1402    0.1933  \n",
      "ada       0.2511  0.1322  0.1426    0.1567  \n",
      "svm       0.1900  0.0000  0.0000    0.0467  \n",
      "rf        0.1848  0.0799  0.0684    0.1767  \n",
      "et        0.1741  0.0886  0.0762    0.1367  \n",
      "knn       0.1512 -0.0585 -0.0576    0.0533  \n",
      "ridge     0.1502 -0.0327 -0.0347    0.0433  \n",
      "lda       0.1430 -0.0398 -0.0417    0.0500  \n",
      "qda       0.0000  0.0000  0.0000    0.0467  \n",
      "dummy     0.0000  0.0000  0.0000    0.0500  \n",
      "DecisionTreeClassifier(ccp_alpha=0.0, class_weight=None, criterion='gini',\n",
      "                       max_depth=None, max_features=None, max_leaf_nodes=None,\n",
      "                       min_impurity_decrease=0.0, min_samples_leaf=1,\n",
      "                       min_samples_split=2, min_weight_fraction_leaf=0.0,\n",
      "                       random_state=427, splitter='best')\n",
      "                      Model  Accuracy     AUC  Recall   Prec.      F1   Kappa  \\\n",
      "0  Decision Tree Classifier     0.823  0.6469     0.4  0.3871  0.3934  0.2898   \n",
      "\n",
      "      MCC  \n",
      "0  0.2899  \n",
      "Predictions saved to: LifeSnaps_Fuzzy_Splitting_Output_Files\\predictions_7.csv\n"
     ]
    },
    {
     "name": "stderr",
     "output_type": "stream",
     "text": [
      "\r"
     ]
    }
   ],
   "source": [
    "import os  # Import os module for folder creation\n",
    "\n",
    "# Specify folder name\n",
    "folder_name = \"LifeSnaps_Fuzzy_Splitting_Output_Files\"\n",
    "\n",
    "accuracies = []\n",
    "precision = []\n",
    "recall = []\n",
    "f1scores = []\n",
    "\n",
    "for participant in unique_participants:\n",
    "    print(\"Group: \",participant)\n",
    "    part_df = lifesnaps_group.get_group(participant)\n",
    "\n",
    "    # ----------------------------------------------------\n",
    "\n",
    "    train_data, test_data = train_test_split_per_user(part_df)\n",
    "\n",
    "    fold_groups = train_data.id\n",
    "\n",
    "    test_ids = test_data['id']\n",
    "\n",
    "    train_data = train_data.drop(columns=['id'])\n",
    "    test_data = test_data.drop(columns=['id'])\n",
    "\n",
    "    # -----------------------------------------------------\n",
    "\n",
    "    part_df = part_df.drop('id', axis = 1)\n",
    "    grid = setup(data=train_data, target='stress', fix_imbalance = True, html=False, verbose=False, fold_strategy='groupkfold', fold=3, fold_groups=fold_groups, test_data=test_data) #fix_imbalance = True,\n",
    "\n",
    "    best = compare_models(sort=\"F1\")\n",
    "    accuracies.append(pull()['Accuracy'][0])\n",
    "    precision.append(pull()['Prec.'][0])\n",
    "    recall.append(pull()['Recall'][0])\n",
    "    f1scores.append(pull()['F1'][0])\n",
    "    print(best)\n",
    "\n",
    "    # ---------------------------------------------------\n",
    "\n",
    "    # Make predictions using the best model\n",
    "    predictions = predict_model(best, data=test_data)\n",
    "\n",
    "    # Extract true labels (y_true), rename the column\n",
    "    y_true = predictions[['stress']].rename(columns={'stress': 'y_true'})  # Rename using rename()\n",
    "\n",
    "    # Extract predicted labels (y_pred), rename the column\n",
    "    y_pred = predictions[['prediction_label']].rename(columns={'prediction_label': 'y_pred'})  # Rename using rename()\n",
    "\n",
    "    # Identify protected attribute columns (assuming you know the column names)\n",
    "    protected_attributes = predictions[['age', 'gender', 'bmi']]\n",
    "\n",
    "    # Concatenate DataFrames containing predictions and protected attributes\n",
    "    # all_data = pd.concat([y_true, y_pred, protected_attributes], axis=1)\n",
    "    all_data = pd.concat([test_ids, y_true, y_pred, protected_attributes], axis=1)\n",
    "\n",
    "    # Create filename\n",
    "    filename = f\"predictions_{participant}.csv\"\n",
    "\n",
    "    # Create folder if it doesn't exist\n",
    "    if not os.path.exists(folder_name):\n",
    "        os.makedirs(folder_name)  # Create folder using makedirs()\n",
    "\n",
    "    # Create full path with folder name\n",
    "    filepath = os.path.join(folder_name, filename)\n",
    "\n",
    "    # Save predictions\n",
    "    all_data.to_csv(filepath, index=False)\n",
    "\n",
    "    print(f\"Predictions saved to: {filepath}\")"
   ]
  },
  {
   "cell_type": "code",
   "execution_count": 14,
   "metadata": {},
   "outputs": [],
   "source": [
    "mean_acc = statistics.mean(accuracies)\n",
    "mean_prec = statistics.mean(precision)\n",
    "mean_rec = statistics.mean(recall)\n",
    "mean_f1 = statistics.mean(f1scores)"
   ]
  },
  {
   "cell_type": "code",
   "execution_count": 15,
   "metadata": {},
   "outputs": [
    {
     "name": "stdout",
     "output_type": "stream",
     "text": [
      "Mean Accuracy LifeSnaps - Fuzzy Clustering:  0.8186125\n",
      "Mean Precision LifeSnaps - Fuzzy Clustering:  0.4019875\n",
      "Mean Recall LifeSnaps - Fuzzy Clustering:  0.47575\n",
      "Mean F1-score LifeSnaps - Fuzzy Clustering:  0.4156375\n"
     ]
    }
   ],
   "source": [
    "print(\"Mean Accuracy LifeSnaps - Fuzzy Clustering: \", mean_acc)\n",
    "print(\"Mean Precision LifeSnaps - Fuzzy Clustering: \", mean_prec)\n",
    "print(\"Mean Recall LifeSnaps - Fuzzy Clustering: \", mean_rec)\n",
    "print(\"Mean F1-score LifeSnaps - Fuzzy Clustering: \", mean_f1)"
   ]
  },
  {
   "cell_type": "code",
   "execution_count": 16,
   "metadata": {},
   "outputs": [],
   "source": [
    "folder_path = \"LifeSnaps_Fuzzy_Splitting_Output_Files\"\n",
    "\n",
    "# List all CSV files in the folder:\n",
    "csv_files = []\n",
    "for filename in os.listdir(folder_path):\n",
    "    if filename.endswith(\".csv\"):\n",
    "        csv_files.append(os.path.join(folder_path, filename))\n",
    "\n",
    "# Concatenate files\n",
    "combined_df = pd.concat([pd.read_csv(file) for file in csv_files], ignore_index=True)\n"
   ]
  },
  {
   "cell_type": "code",
   "execution_count": 17,
   "metadata": {},
   "outputs": [
    {
     "name": "stdout",
     "output_type": "stream",
     "text": [
      "All predictions saved to: Output_Files\\LifeSnaps_Fuzzy_Splitting.csv\n"
     ]
    }
   ],
   "source": [
    "output_folder = \"Output_Files\"\n",
    "\n",
    "# Create the output folder if it doesn't exist\n",
    "if not os.path.exists(output_folder):\n",
    "    os.makedirs(output_folder)  # Create folder using makedirs()\n",
    "\n",
    "# Create the full path with the output folder name\n",
    "output_filepath = os.path.join(output_folder, \"LifeSnaps_Fuzzy_Splitting.csv\")\n",
    "\n",
    "# Save the concatenated DataFrame to the new CSV file\n",
    "combined_df.to_csv(output_filepath, index=False)\n",
    "\n",
    "print(f\"All predictions saved to: {output_filepath}\")"
   ]
  },
  {
   "cell_type": "code",
   "execution_count": 18,
   "metadata": {},
   "outputs": [],
   "source": [
    "predictions = pd.read_csv('Output_Files/LifeSnaps_Fuzzy_Splitting.csv')"
   ]
  },
  {
   "cell_type": "code",
   "execution_count": 19,
   "metadata": {},
   "outputs": [],
   "source": [
    "predictions['bmi'] = predictions.bmi.apply(lambda bmi: 0 if bmi < 18.5 else (1 if bmi < 25 else (\n",
    "    2 if bmi < 30 else 3)))  # 0: Underweight, 1: Normal, 2: Overweight, 3: Obese"
   ]
  },
  {
   "cell_type": "code",
   "execution_count": 20,
   "metadata": {},
   "outputs": [],
   "source": [
    "predictions.to_csv('Output_Files/LifeSnaps_Fuzzy_Splitting.csv', index=False)"
   ]
  }
 ],
 "metadata": {
  "kernelspec": {
   "display_name": "Python 3",
   "language": "python",
   "name": "python3"
  },
  "language_info": {
   "codemirror_mode": {
    "name": "ipython",
    "version": 3
   },
   "file_extension": ".py",
   "mimetype": "text/x-python",
   "name": "python",
   "nbconvert_exporter": "python",
   "pygments_lexer": "ipython3",
   "version": "3.11.5"
  }
 },
 "nbformat": 4,
 "nbformat_minor": 2
}
